{
 "cells": [
  {
   "cell_type": "markdown",
   "id": "efc8027b-c746-4e2e-aec5-e6f814c7d677",
   "metadata": {
    "tags": []
   },
   "source": [
    "# EPE Tracker Tool\n",
    "\n",
    "## Expected Input\n",
    "\n",
    "This notebook expects files \"probability_weights_tweets.json\" and \"probability_weights_article.json\", an example of which is provided below:\n",
    "\n",
    "```\n",
    "{\n",
    "  \"initial\": 0.3,\n",
    "  \"threshold\": 0.75,\n",
    "  \"users\": {\n",
    "    \"insight_centre\": 0.9,\n",
    "    \"job_ie\": -0.8\n",
    "  },\n",
    "  \"hashtags\": {\n",
    "    \"epe\": 0.8,\n",
    "    \"jobfairy\": -0.8\n",
    "  },\n",
    "  \"words\": {\n",
    "    \"speech\": 0.5,\n",
    "    \"advertisement\": -0.2\n",
    "  }\n",
    "}\n",
    "```\n",
    "\n",
    "The initial and threshold keys are values between 0 and 1 representing the probability to begin with and the probability above which should be considered an EPE event respectively. The users, hashtags and words maps all allow the user to provide positive and negative probabilities to be used in the running of the program. There is no need to provide the hashtags or users keys in probability_weights_article.json.\n",
    "\n",
    "This notebook also expects an \"env.json\" file, an example of which is shown below:\n",
    "\n",
    "```\n",
    "{\n",
    "  \"end_date\": {\n",
    "    \"year\": 2022,\n",
    "    \"month\": 1,\n",
    "    \"day\": 1\n",
    "  },\n",
    "  \"podcast_id\": \"0HTattjY2kXo9zywjNW8Mk\",\n",
    "  \"audience_estimate\": {\n",
    "    \"twitter\": \"unknown\",\n",
    "    \"insight_website\": \"unknown\",\n",
    "    \"podcast\": 500,\n",
    "    \"brainstorm\": 2000,\n",
    "    \"silicon_republic\": 1000,\n",
    "    \"external\": {\n",
    "      \"irishtimes\": 3000,\n",
    "      \"irish times\": 3000\n",
    "    }\n",
    "  },\n",
    "  \"people\": {\n",
    "    \"Georgiana Ifrim\": {\n",
    "      \"twitter\": \"heerme\"\n",
    "    }\n",
    "  },\n",
    "  \"pages\": {\n",
    "    \"Insight Centre\": {\n",
    "      \"twitter\": \"insight_centre\"\n",
    "    }\n",
    "  },\n",
    "  \"twitter_consumer_key\": \"...\",\n",
    "  \"twitter_consumer_secret\": \"...\",\n",
    "  \"twitter_access_token\": \"...\",\n",
    "  \"twitter_access_token_secret\": \"...\",\n",
    "  \"spotify_client_id\": \"...\",\n",
    "  \"spotify_client_secret\": \"...\"\n",
    "}\n",
    "```\n",
    "\n",
    "The end_date key should be the date you would like to start collecting from - All events will therefore be collected from the end_date to the current day.\n",
    "\n",
    "The podcast_id key is the ID of the podcast you would like to collect the episodes on Spotify. This can be got by visiting the podcast on the spotify website. Eg. https://open.spotify.com/show/0HTattjY2kXo9zywjNW8Mk means our ID is 0HTattjY2kXo9zywjNW8Mk\n",
    "\n",
    "The audience_estimate key is used to provide estimates of the number of people reached by an event. There should be a key for each of the core sources (twitter, insight_website, podcast, brainstorm and silicon republic currently) as well as an external key which allows a list of sites like Irish Times, RTÉ, The Journal to be specified. \n",
    "\n",
    "The people key is a map of people (key) and their twitter handles (value). These are the researchers we are trying to find events for.\n",
    "\n",
    "The pages key is a map of pages (key) and their twitter handles (value) and allows extra Twitter accounts to be collected from without allowing \"Insight Centre\" to be found to be conducting EPE.\n",
    "\n",
    "The various id's, keys, tokens and secrets at the bottom are used to interact with the spotify and twitter APIs. These should not be changed unless you are making your own version of the tool, in which case you should generate new keys and tokens as set out in the Twitter and Spotify API Documentation."
   ]
  },
  {
   "cell_type": "markdown",
   "id": "baa9492b-5678-45d5-9831-f7a7189e0447",
   "metadata": {
    "tags": []
   },
   "source": [
    "## Collection"
   ]
  },
  {
   "cell_type": "markdown",
   "id": "dc1b3625-708d-4f8c-81d7-b6e0bfd1e8d7",
   "metadata": {
    "jp-MarkdownHeadingCollapsed": true,
    "tags": []
   },
   "source": [
    "### Brainstorm Collection"
   ]
  },
  {
   "cell_type": "markdown",
   "id": "e9270f77-498e-4304-8108-063cf2bf7f66",
   "metadata": {
    "jp-MarkdownHeadingCollapsed": true,
    "tags": []
   },
   "source": [
    "Dependencies: (Working on wget)"
   ]
  },
  {
   "cell_type": "code",
   "execution_count": 49,
   "id": "bd41fcc5-e9cb-477b-b380-9d1f9c0886c5",
   "metadata": {},
   "outputs": [
    {
     "name": "stdout",
     "output_type": "stream",
     "text": [
      "Requirement already satisfied: newspaper3k in c:\\users\\lukej\\appdata\\local\\packages\\pythonsoftwarefoundation.python.3.9_qbz5n2kfra8p0\\localcache\\local-packages\\python39\\site-packages (0.2.8)\n",
      "Requirement already satisfied: python-dateutil>=2.5.3 in c:\\users\\lukej\\appdata\\local\\packages\\pythonsoftwarefoundation.python.3.9_qbz5n2kfra8p0\\localcache\\local-packages\\python39\\site-packages (from newspaper3k) (2.8.2)\n",
      "Requirement already satisfied: PyYAML>=3.11 in c:\\users\\lukej\\appdata\\local\\packages\\pythonsoftwarefoundation.python.3.9_qbz5n2kfra8p0\\localcache\\local-packages\\python39\\site-packages (from newspaper3k) (6.0)\n",
      "Requirement already satisfied: requests>=2.10.0 in c:\\users\\lukej\\appdata\\local\\packages\\pythonsoftwarefoundation.python.3.9_qbz5n2kfra8p0\\localcache\\local-packages\\python39\\site-packages (from newspaper3k) (2.27.1)\n",
      "Requirement already satisfied: beautifulsoup4>=4.4.1 in c:\\users\\lukej\\appdata\\local\\packages\\pythonsoftwarefoundation.python.3.9_qbz5n2kfra8p0\\localcache\\local-packages\\python39\\site-packages (from newspaper3k) (4.10.0)\n",
      "Requirement already satisfied: feedparser>=5.2.1 in c:\\users\\lukej\\appdata\\local\\packages\\pythonsoftwarefoundation.python.3.9_qbz5n2kfra8p0\\localcache\\local-packages\\python39\\site-packages (from newspaper3k) (6.0.8)\n",
      "Requirement already satisfied: lxml>=3.6.0 in c:\\users\\lukej\\appdata\\local\\packages\\pythonsoftwarefoundation.python.3.9_qbz5n2kfra8p0\\localcache\\local-packages\\python39\\site-packages (from newspaper3k) (4.8.0)\n",
      "Requirement already satisfied: Pillow>=3.3.0 in c:\\users\\lukej\\appdata\\local\\packages\\pythonsoftwarefoundation.python.3.9_qbz5n2kfra8p0\\localcache\\local-packages\\python39\\site-packages (from newspaper3k) (9.0.1)\n",
      "Requirement already satisfied: tinysegmenter==0.3 in c:\\users\\lukej\\appdata\\local\\packages\\pythonsoftwarefoundation.python.3.9_qbz5n2kfra8p0\\localcache\\local-packages\\python39\\site-packages (from newspaper3k) (0.3)\n",
      "Requirement already satisfied: jieba3k>=0.35.1 in c:\\users\\lukej\\appdata\\local\\packages\\pythonsoftwarefoundation.python.3.9_qbz5n2kfra8p0\\localcache\\local-packages\\python39\\site-packages (from newspaper3k) (0.35.1)\n",
      "Requirement already satisfied: tldextract>=2.0.1 in c:\\users\\lukej\\appdata\\local\\packages\\pythonsoftwarefoundation.python.3.9_qbz5n2kfra8p0\\localcache\\local-packages\\python39\\site-packages (from newspaper3k) (3.2.0)\n",
      "Requirement already satisfied: nltk>=3.2.1 in c:\\users\\lukej\\appdata\\local\\packages\\pythonsoftwarefoundation.python.3.9_qbz5n2kfra8p0\\localcache\\local-packages\\python39\\site-packages (from newspaper3k) (3.7)\n",
      "Requirement already satisfied: feedfinder2>=0.0.4 in c:\\users\\lukej\\appdata\\local\\packages\\pythonsoftwarefoundation.python.3.9_qbz5n2kfra8p0\\localcache\\local-packages\\python39\\site-packages (from newspaper3k) (0.0.4)\n",
      "Requirement already satisfied: cssselect>=0.9.2 in c:\\users\\lukej\\appdata\\local\\packages\\pythonsoftwarefoundation.python.3.9_qbz5n2kfra8p0\\localcache\\local-packages\\python39\\site-packages (from newspaper3k) (1.1.0)\n",
      "Requirement already satisfied: soupsieve>1.2 in c:\\users\\lukej\\appdata\\local\\packages\\pythonsoftwarefoundation.python.3.9_qbz5n2kfra8p0\\localcache\\local-packages\\python39\\site-packages (from beautifulsoup4>=4.4.1->newspaper3k) (2.3.1)\n",
      "Requirement already satisfied: six in c:\\users\\lukej\\appdata\\local\\packages\\pythonsoftwarefoundation.python.3.9_qbz5n2kfra8p0\\localcache\\local-packages\\python39\\site-packages (from feedfinder2>=0.0.4->newspaper3k) (1.15.0)\n",
      "Requirement already satisfied: sgmllib3k in c:\\users\\lukej\\appdata\\local\\packages\\pythonsoftwarefoundation.python.3.9_qbz5n2kfra8p0\\localcache\\local-packages\\python39\\site-packages (from feedparser>=5.2.1->newspaper3k) (1.0.0)\n",
      "Requirement already satisfied: joblib in c:\\users\\lukej\\appdata\\local\\packages\\pythonsoftwarefoundation.python.3.9_qbz5n2kfra8p0\\localcache\\local-packages\\python39\\site-packages (from nltk>=3.2.1->newspaper3k) (1.1.0)\n",
      "Requirement already satisfied: click in c:\\users\\lukej\\appdata\\local\\packages\\pythonsoftwarefoundation.python.3.9_qbz5n2kfra8p0\\localcache\\local-packages\\python39\\site-packages (from nltk>=3.2.1->newspaper3k) (8.0.4)\n",
      "Requirement already satisfied: tqdm in c:\\users\\lukej\\appdata\\local\\packages\\pythonsoftwarefoundation.python.3.9_qbz5n2kfra8p0\\localcache\\local-packages\\python39\\site-packages (from nltk>=3.2.1->newspaper3k) (4.63.0)\n",
      "Requirement already satisfied: regex>=2021.8.3 in c:\\users\\lukej\\appdata\\local\\packages\\pythonsoftwarefoundation.python.3.9_qbz5n2kfra8p0\\localcache\\local-packages\\python39\\site-packages (from nltk>=3.2.1->newspaper3k) (2022.3.15)\n",
      "Requirement already satisfied: charset-normalizer~=2.0.0 in c:\\users\\lukej\\appdata\\local\\packages\\pythonsoftwarefoundation.python.3.9_qbz5n2kfra8p0\\localcache\\local-packages\\python39\\site-packages (from requests>=2.10.0->newspaper3k) (2.0.12)\n",
      "Requirement already satisfied: idna<4,>=2.5 in c:\\users\\lukej\\appdata\\local\\packages\\pythonsoftwarefoundation.python.3.9_qbz5n2kfra8p0\\localcache\\local-packages\\python39\\site-packages (from requests>=2.10.0->newspaper3k) (2.10)\n",
      "Requirement already satisfied: urllib3<1.27,>=1.21.1 in c:\\users\\lukej\\appdata\\local\\packages\\pythonsoftwarefoundation.python.3.9_qbz5n2kfra8p0\\localcache\\local-packages\\python39\\site-packages (from requests>=2.10.0->newspaper3k) (1.26.3)\n",
      "Requirement already satisfied: certifi>=2017.4.17 in c:\\users\\lukej\\appdata\\local\\packages\\pythonsoftwarefoundation.python.3.9_qbz5n2kfra8p0\\localcache\\local-packages\\python39\\site-packages (from requests>=2.10.0->newspaper3k) (2020.12.5)\n",
      "Requirement already satisfied: filelock>=3.0.8 in c:\\users\\lukej\\appdata\\local\\packages\\pythonsoftwarefoundation.python.3.9_qbz5n2kfra8p0\\localcache\\local-packages\\python39\\site-packages (from tldextract>=2.0.1->newspaper3k) (3.6.0)\n",
      "Requirement already satisfied: requests-file>=1.4 in c:\\users\\lukej\\appdata\\local\\packages\\pythonsoftwarefoundation.python.3.9_qbz5n2kfra8p0\\localcache\\local-packages\\python39\\site-packages (from tldextract>=2.0.1->newspaper3k) (1.5.1)\n",
      "Requirement already satisfied: colorama in c:\\users\\lukej\\appdata\\local\\packages\\pythonsoftwarefoundation.python.3.9_qbz5n2kfra8p0\\localcache\\local-packages\\python39\\site-packages (from click->nltk>=3.2.1->newspaper3k) (0.4.4)\n"
     ]
    }
   ],
   "source": [
    "#!wget https://www.rte.ie/brainstorm/ -r -E -p --no-parent --accept-regex \".*/brainstorm/20[0-9]{2}/.*\"\n",
    "!pip install newspaper3k"
   ]
  },
  {
   "cell_type": "markdown",
   "id": "619604f4-97b1-4c3f-bd7d-dba9a646de77",
   "metadata": {},
   "source": [
    "Code:"
   ]
  },
  {
   "cell_type": "code",
   "execution_count": 39,
   "id": "4b1e34e5-3c75-4558-884c-115a127299c2",
   "metadata": {},
   "outputs": [
    {
     "name": "stdout",
     "output_type": "stream",
     "text": [
      "100 brainstorm articles found\n"
     ]
    }
   ],
   "source": [
    "%run -i collect_brainstorm.py"
   ]
  },
  {
   "cell_type": "markdown",
   "id": "e8731d94-81cc-47a4-8dc6-aa2ec2cd8696",
   "metadata": {
    "jp-MarkdownHeadingCollapsed": true,
    "tags": []
   },
   "source": [
    "### Insight Website Collection"
   ]
  },
  {
   "cell_type": "markdown",
   "id": "86accdbe-6394-4db3-90d1-6d310ae450e5",
   "metadata": {
    "jp-MarkdownHeadingCollapsed": true,
    "tags": []
   },
   "source": [
    "Dependencies:"
   ]
  },
  {
   "cell_type": "code",
   "execution_count": 9,
   "id": "6f3f0426-147e-490c-abc1-1071ed8a8701",
   "metadata": {},
   "outputs": [
    {
     "name": "stderr",
     "output_type": "stream",
     "text": [
      "'wget' is not recognized as an internal or external command,\n",
      "operable program or batch file.\n"
     ]
    },
    {
     "name": "stdout",
     "output_type": "stream",
     "text": [
      "Requirement already satisfied: newspaper3k in c:\\users\\lukej\\appdata\\local\\packages\\pythonsoftwarefoundation.python.3.9_qbz5n2kfra8p0\\localcache\\local-packages\\python39\\site-packages (0.2.8)\n",
      "Requirement already satisfied: feedparser>=5.2.1 in c:\\users\\lukej\\appdata\\local\\packages\\pythonsoftwarefoundation.python.3.9_qbz5n2kfra8p0\\localcache\\local-packages\\python39\\site-packages (from newspaper3k) (6.0.8)\n",
      "Requirement already satisfied: python-dateutil>=2.5.3 in c:\\users\\lukej\\appdata\\local\\packages\\pythonsoftwarefoundation.python.3.9_qbz5n2kfra8p0\\localcache\\local-packages\\python39\\site-packages (from newspaper3k) (2.8.2)\n",
      "Requirement already satisfied: feedfinder2>=0.0.4 in c:\\users\\lukej\\appdata\\local\\packages\\pythonsoftwarefoundation.python.3.9_qbz5n2kfra8p0\\localcache\\local-packages\\python39\\site-packages (from newspaper3k) (0.0.4)\n",
      "Requirement already satisfied: cssselect>=0.9.2 in c:\\users\\lukej\\appdata\\local\\packages\\pythonsoftwarefoundation.python.3.9_qbz5n2kfra8p0\\localcache\\local-packages\\python39\\site-packages (from newspaper3k) (1.1.0)\n",
      "Requirement already satisfied: requests>=2.10.0 in c:\\users\\lukej\\appdata\\local\\packages\\pythonsoftwarefoundation.python.3.9_qbz5n2kfra8p0\\localcache\\local-packages\\python39\\site-packages (from newspaper3k) (2.25.1)\n",
      "Requirement already satisfied: tinysegmenter==0.3 in c:\\users\\lukej\\appdata\\local\\packages\\pythonsoftwarefoundation.python.3.9_qbz5n2kfra8p0\\localcache\\local-packages\\python39\\site-packages (from newspaper3k) (0.3)\n",
      "Requirement already satisfied: beautifulsoup4>=4.4.1 in c:\\users\\lukej\\appdata\\local\\packages\\pythonsoftwarefoundation.python.3.9_qbz5n2kfra8p0\\localcache\\local-packages\\python39\\site-packages (from newspaper3k) (4.10.0)\n",
      "Requirement already satisfied: tldextract>=2.0.1 in c:\\users\\lukej\\appdata\\local\\packages\\pythonsoftwarefoundation.python.3.9_qbz5n2kfra8p0\\localcache\\local-packages\\python39\\site-packages (from newspaper3k) (3.2.0)\n",
      "Requirement already satisfied: Pillow>=3.3.0 in c:\\users\\lukej\\appdata\\local\\packages\\pythonsoftwarefoundation.python.3.9_qbz5n2kfra8p0\\localcache\\local-packages\\python39\\site-packages (from newspaper3k) (9.0.1)\n",
      "Requirement already satisfied: nltk>=3.2.1 in c:\\users\\lukej\\appdata\\local\\packages\\pythonsoftwarefoundation.python.3.9_qbz5n2kfra8p0\\localcache\\local-packages\\python39\\site-packages (from newspaper3k) (3.7)\n",
      "Requirement already satisfied: jieba3k>=0.35.1 in c:\\users\\lukej\\appdata\\local\\packages\\pythonsoftwarefoundation.python.3.9_qbz5n2kfra8p0\\localcache\\local-packages\\python39\\site-packages (from newspaper3k) (0.35.1)\n",
      "Requirement already satisfied: lxml>=3.6.0 in c:\\users\\lukej\\appdata\\local\\packages\\pythonsoftwarefoundation.python.3.9_qbz5n2kfra8p0\\localcache\\local-packages\\python39\\site-packages (from newspaper3k) (4.8.0)\n",
      "Requirement already satisfied: PyYAML>=3.11 in c:\\users\\lukej\\appdata\\local\\packages\\pythonsoftwarefoundation.python.3.9_qbz5n2kfra8p0\\localcache\\local-packages\\python39\\site-packages (from newspaper3k) (6.0)\n",
      "Requirement already satisfied: soupsieve>1.2 in c:\\users\\lukej\\appdata\\local\\packages\\pythonsoftwarefoundation.python.3.9_qbz5n2kfra8p0\\localcache\\local-packages\\python39\\site-packages (from beautifulsoup4>=4.4.1->newspaper3k) (2.3.1)\n",
      "Requirement already satisfied: six in c:\\users\\lukej\\appdata\\local\\packages\\pythonsoftwarefoundation.python.3.9_qbz5n2kfra8p0\\localcache\\local-packages\\python39\\site-packages (from feedfinder2>=0.0.4->newspaper3k) (1.15.0)\n",
      "Requirement already satisfied: sgmllib3k in c:\\users\\lukej\\appdata\\local\\packages\\pythonsoftwarefoundation.python.3.9_qbz5n2kfra8p0\\localcache\\local-packages\\python39\\site-packages (from feedparser>=5.2.1->newspaper3k) (1.0.0)\n",
      "Requirement already satisfied: joblib in c:\\users\\lukej\\appdata\\local\\packages\\pythonsoftwarefoundation.python.3.9_qbz5n2kfra8p0\\localcache\\local-packages\\python39\\site-packages (from nltk>=3.2.1->newspaper3k) (1.1.0)\n",
      "Requirement already satisfied: regex>=2021.8.3 in c:\\users\\lukej\\appdata\\local\\packages\\pythonsoftwarefoundation.python.3.9_qbz5n2kfra8p0\\localcache\\local-packages\\python39\\site-packages (from nltk>=3.2.1->newspaper3k) (2022.3.15)\n",
      "Requirement already satisfied: click in c:\\users\\lukej\\appdata\\local\\packages\\pythonsoftwarefoundation.python.3.9_qbz5n2kfra8p0\\localcache\\local-packages\\python39\\site-packages (from nltk>=3.2.1->newspaper3k) (8.0.4)\n",
      "Requirement already satisfied: tqdm in c:\\users\\lukej\\appdata\\local\\packages\\pythonsoftwarefoundation.python.3.9_qbz5n2kfra8p0\\localcache\\local-packages\\python39\\site-packages (from nltk>=3.2.1->newspaper3k) (4.63.0)\n",
      "Requirement already satisfied: urllib3<1.27,>=1.21.1 in c:\\users\\lukej\\appdata\\local\\packages\\pythonsoftwarefoundation.python.3.9_qbz5n2kfra8p0\\localcache\\local-packages\\python39\\site-packages (from requests>=2.10.0->newspaper3k) (1.26.3)\n",
      "Requirement already satisfied: certifi>=2017.4.17 in c:\\users\\lukej\\appdata\\local\\packages\\pythonsoftwarefoundation.python.3.9_qbz5n2kfra8p0\\localcache\\local-packages\\python39\\site-packages (from requests>=2.10.0->newspaper3k) (2020.12.5)\n",
      "Requirement already satisfied: idna<3,>=2.5 in c:\\users\\lukej\\appdata\\local\\packages\\pythonsoftwarefoundation.python.3.9_qbz5n2kfra8p0\\localcache\\local-packages\\python39\\site-packages (from requests>=2.10.0->newspaper3k) (2.10)\n",
      "Requirement already satisfied: chardet<5,>=3.0.2 in c:\\users\\lukej\\appdata\\local\\packages\\pythonsoftwarefoundation.python.3.9_qbz5n2kfra8p0\\localcache\\local-packages\\python39\\site-packages (from requests>=2.10.0->newspaper3k) (4.0.0)\n",
      "Requirement already satisfied: filelock>=3.0.8 in c:\\users\\lukej\\appdata\\local\\packages\\pythonsoftwarefoundation.python.3.9_qbz5n2kfra8p0\\localcache\\local-packages\\python39\\site-packages (from tldextract>=2.0.1->newspaper3k) (3.6.0)\n",
      "Requirement already satisfied: requests-file>=1.4 in c:\\users\\lukej\\appdata\\local\\packages\\pythonsoftwarefoundation.python.3.9_qbz5n2kfra8p0\\localcache\\local-packages\\python39\\site-packages (from tldextract>=2.0.1->newspaper3k) (1.5.1)\n",
      "Requirement already satisfied: colorama in c:\\users\\lukej\\appdata\\local\\packages\\pythonsoftwarefoundation.python.3.9_qbz5n2kfra8p0\\localcache\\local-packages\\python39\\site-packages (from click->nltk>=3.2.1->newspaper3k) (0.4.4)\n"
     ]
    }
   ],
   "source": [
    "#!wget https://www.insight-centre.org/news/ -r -E -p\n",
    "!pip install newspaper3k"
   ]
  },
  {
   "cell_type": "markdown",
   "id": "72c21fd7-b6a3-4344-9374-773221a39478",
   "metadata": {},
   "source": [
    "Code:"
   ]
  },
  {
   "cell_type": "code",
   "execution_count": 17,
   "id": "ad4419e0-fc37-432f-8de4-00d1933647ac",
   "metadata": {},
   "outputs": [
    {
     "name": "stdout",
     "output_type": "stream",
     "text": [
      "['./www.insight-centre.org\\\\1-3m-investment-for-insight-spinout-output-sports-irish-times\\\\index.html', './www.insight-centre.org\\\\a-breath-of-fresh-air-ep7-of-the-insight-podcast-out-now\\\\index.html', './www.insight-centre.org\\\\ai-data-and-feminism-dont-miss-the-next-trustworthy-ai-data-science-and-society-network-meeting\\\\index.html', './www.insight-centre.org\\\\ai-data-robotics-association-launches\\\\index.html', './www.insight-centre.org\\\\ai-through-the-looking-glass-barry-osullivan-talks-to-dame-wendy-hall-from-ria-event\\\\index.html', './www.insight-centre.org\\\\alan-smeaton-talks-to-rtes-claire-byrne-about-fake-twitter-accounts\\\\index.html', './www.insight-centre.org\\\\alice-perry-open-data-hackathon-november-16\\\\index.html', './www.insight-centre.org\\\\alison-keogh-talks-human-behaviour-with-silicon-republic\\\\index.html', './www.insight-centre.org\\\\alison-keogh-talks-human-behaviour-with-silicon-republic-2\\\\index.html', './www.insight-centre.org\\\\barry-osullivan-and-derek-bridge-launch-elements-of-ai-online-course\\\\index.html', './www.insight-centre.org\\\\barry-osullivan-and-ed-curry-signatories-to-agenda-for-the-digital-transformation-of-europe\\\\index.html', './www.insight-centre.org\\\\barry-osullivan-awarded-sfi-international-engagement-award-2021\\\\index.html', './www.insight-centre.org\\\\barry-osullivan-talks-ai-to-today-fms-mario-rosenstock\\\\index.html', './www.insight-centre.org\\\\bracelet-offering-real-time-sign-language-translation-showcased-at-cbmi-conference-at-dcu\\\\index.html', './www.insight-centre.org\\\\call-to-insight-members-for-proposals-for-insight-citizen-science-project\\\\index.html', './www.insight-centre.org\\\\cathal-gurrin-talks-to-elder-about-lifelogging-and-dementia\\\\index.html', './www.insight-centre.org\\\\cathals-log-stardate-2021-ep3-s2-of-the-insight-podcast-is-out-now\\\\index.html', './www.insight-centre.org\\\\ceo-noel-oconnor-welcomes-launch-of-digital-ireland-framework\\\\index.html', './www.insight-centre.org\\\\charmaine-cruz-on-protecting-natural-habitats-playing-ukelele-and-how-her-aunt-ellen-made-it-all-possible\\\\index.html', './www.insight-centre.org\\\\citizen-science-insight-a-qa-with-bianca-pereira-on-crowd4access\\\\index.html', './www.insight-centre.org\\\\citizen-science-insight-a-qa-with-bianca-pereira-on-crowd4access-3\\\\index.html', './www.insight-centre.org\\\\commercialisation\\\\index.html', './www.insight-centre.org\\\\connected-health\\\\index.html', './www.insight-centre.org\\\\copy-of-updated-european-funded-projects\\\\index.html', './www.insight-centre.org\\\\copyright-statement\\\\index.html', './www.insight-centre.org\\\\corona-citizens-science-project-in-irish-tech-news\\\\index.html', './www.insight-centre.org\\\\corona-citizens-science-study-phase-4-half-of-respondents-wearing-masks\\\\index.html', './www.insight-centre.org\\\\corona-citizens-science-study-results-removal-of-2km-limit-a-priority\\\\index.html', './www.insight-centre.org\\\\coronavirus-survey-results-published\\\\index.html', './www.insight-centre.org\\\\covid-insights-aoife-morrin-and-home-air-quality-in-lockdown\\\\index.html', './www.insight-centre.org\\\\covid-insights-barry-smyth-and-data-in-the-time-of-corona\\\\index.html', './www.insight-centre.org\\\\covid-insights-breathe-into-your-phone\\\\index.html', './www.insight-centre.org\\\\covid-insights-understanding-outbreaks-in-meat-processing-plants\\\\index.html', './www.insight-centre.org\\\\covid-meat-factories-case-study-pptx\\\\index.html', './www.insight-centre.org\\\\crowd4access-needs-you\\\\index.html', './www.insight-centre.org\\\\crowd4access-update-fascinating-city-user-insights-promise-useful-mapping\\\\index.html', './www.insight-centre.org\\\\crowd4access-update-fascinating-city-user-insights-promise-useful-mapping-for-all\\\\index.html', './www.insight-centre.org\\\\crowd4access-update-we-need-you\\\\index.html', './www.insight-centre.org\\\\data-engineering-and-governance\\\\index.html', './www.insight-centre.org\\\\data-in-a-time-of-covid-listen-to-ep-08-of-the-insight-podcast-now\\\\index.html', './www.insight-centre.org\\\\data-protection-notice\\\\index.html', './www.insight-centre.org\\\\dcu-gaitkeeper-project-in-the-irish-times\\\\index.html', './www.insight-centre.org\\\\decision-making\\\\index.html', './www.insight-centre.org\\\\dr-alessandra-mileo-on-the-ai-brain-in-silicon-republic\\\\index.html', './www.insight-centre.org\\\\dr-alessandra-mileo-on-the-ai-brain-in-silicon-republic-2\\\\index.html', './www.insight-centre.org\\\\dr-aoife-morrin-profiled-in-silicon-republic\\\\index.html', './www.insight-centre.org\\\\dr-aonghus-lawlor-announced-as-recipient-of-irish-centre-for-high-end-computing-flagship-award\\\\index.html', './www.insight-centre.org\\\\dr-emer-duffy-talks-to-techcentral\\\\index.html', './www.insight-centre.org\\\\dr-emer-duffy-writes-about-her-cutting-edge-skin-research-in-rtes-brainstorm\\\\index.html', './www.insight-centre.org\\\\dr-georgiana-ifrim-and-dr-suzanne-little-feature-in-silicon-republics-20-women-in-ai\\\\index.html', './www.insight-centre.org\\\\dr-john-breslins-old-ireland-in-colour-book-nominated-for-an-an-post-irish-book-award\\\\index.html', './www.insight-centre.org\\\\dr-kosala-yapa-talks-blockchain-in-techcentral-ie\\\\index.html', './www.insight-centre.org\\\\e-scooter-trial-launch-at-dcu-a-world-first\\\\index.html', './www.insight-centre.org\\\\ecosystem\\\\index.html', './www.insight-centre.org\\\\emotionally-intelligent-ai-suzanne-little-and-alan-smeaton-in-the-irish-times\\\\index.html', './www.insight-centre.org\\\\environmental-insights-care-peat\\\\index.html', './www.insight-centre.org\\\\environmental-insights-insight-part-of-the-drive-behind-irelands-first-ever-zero-emissions-hydrogen-bus-trial\\\\index.html', './www.insight-centre.org\\\\environmental-insights-solarmap\\\\index.html', './www.insight-centre.org\\\\ep-15-happy-poddys-day\\\\index.html', './www.insight-centre.org\\\\ep12-puzzles-from-japan-listen-to-the-insight-podcast-today\\\\index.html', './www.insight-centre.org\\\\epe-committee-2\\\\index.html', './www.insight-centre.org\\\\episode-11-of-the-insight-podcast-is-out-now\\\\index.html', './www.insight-centre.org\\\\episode-13-of-the-insight-podcast-is-out-now\\\\index.html', './www.insight-centre.org\\\\episode-2-of-the-insight-podcast-out-now\\\\index.html', './www.insight-centre.org\\\\eugene-freuders-global-ai-award-in-silicon-republic\\\\index.html', './www.insight-centre.org\\\\european-funded-projects\\\\index.html', './www.insight-centre.org\\\\extreme-temperature-events-in-dublin-up-20-in-eight-years\\\\index.html', './www.insight-centre.org\\\\first-results-from-moving-well-being-well-dominate-the-news-agenda\\\\index.html', './www.insight-centre.org\\\\for-peats-sake-ep-06-of-the-insight-podcast-out-now\\\\index.html', './www.insight-centre.org\\\\foundations-of-data-science\\\\index.html', './www.insight-centre.org\\\\from-dublin-to-the-super-bowl-s2-ep2-of-the-insight-podcast-is-out-now\\\\index.html', './www.insight-centre.org\\\\funding-collaboration\\\\index.html', './www.insight-centre.org\\\\glucose-monitoring-sensor-featured-in-3d-med-net\\\\index.html', './www.insight-centre.org\\\\governance\\\\index.html', './www.insight-centre.org\\\\half-of-young-people-found-mental-health-support-online-in-lockdown-insight-study-finds\\\\index.html', './www.insight-centre.org\\\\harnessing-the-data-deluge-dr-norma-bargary-awarded-sfi-frontiers-for-the-future-grant\\\\index.html', './www.insight-centre.org\\\\harnessing-the-data-deluge-dr-norma-bargary-awarded-sfi-frontiers-for-the-future-grant-2\\\\index.html', './www.insight-centre.org\\\\health-and-wellbeing\\\\index.html', './www.insight-centre.org\\\\health-insights-interview-with-professor-madeleine-lowery\\\\index.html', './www.insight-centre.org\\\\health-month-ceo-noel-oconnor-on-data-and-the-pandemic-insight-at-the-heart-of-the-national-pandemic-response\\\\index.html', './www.insight-centre.org\\\\hip-hop-psychology-iconography-episode-3-of-the-insight-podcast-out-now\\\\index.html', './www.insight-centre.org\\\\hiveminds-ep09-of-the-insight-podcast-out-now\\\\index.html', './www.insight-centre.org\\\\home-air-quality-in-lockdown-aoife-morrin-and-emer-duffy-in-the-irish-times\\\\index.html', './www.insight-centre.org\\\\home-air-quality-in-lockdown-aoife-morrin-and-emer-duffy-in-the-irish-times-3\\\\index.html', './www.insight-centre.org\\\\horizon-magazine-qa-with-prof-maire-connolly\\\\index.html', './www.insight-centre.org\\\\how-contact-tracing-apps-work-in-the-fight-against-the-pandemic-read-paolo-palmieri-in-rtes-brainstorm\\\\index.html', './www.insight-centre.org\\\\impact-of-covid-19-on-food-habits-insightgalway-part-of-europe-wide-survey-project\\\\index.html', './www.insight-centre.org\\\\industry-collaboration\\\\index.html', './www.insight-centre.org\\\\insight-a-part-of-hydrogen-mobility-ireland-trial-of-a-fuel-cell-electric-bus-in-dublin\\\\index.html', './www.insight-centre.org\\\\insight-announces-new-artist-in-residence-ann-maria-healy\\\\index.html', './www.insight-centre.org\\\\insight-announces-strategic-partnership-with-xperi-corporation\\\\index.html', './www.insight-centre.org\\\\insight-ceo-noel-oconnor-contributes-to-significant-eciu-university-report\\\\index.html', './www.insight-centre.org\\\\insight-culture-data-science-and-hip-hop\\\\index.html', './www.insight-centre.org\\\\insight-culture-the-eternal-memory\\\\index.html', './www.insight-centre.org\\\\insight-culture-the-miasmatists\\\\index.html', './www.insight-centre.org\\\\insight-culture-the-traction-project\\\\index.html', './www.insight-centre.org\\\\insight-dcu-and-bentley-systems-to-create-irelands-first-higher-education-digital-campus\\\\index.html', './www.insight-centre.org\\\\insight-dcu-and-the-gaa-team-up-to-get-children-moving\\\\index.html', './www.insight-centre.org\\\\insight-dcu-gaa-study-on-childrens-engagement-in-physical-activity-features-in-the-irish-times\\\\index.html', './www.insight-centre.org\\\\insight-epe-lab-the-eco-showboat-to-launch-on-water-heritage-day\\\\index.html', './www.insight-centre.org\\\\insight-fi-professor-madeleine-lowery-awarded-european-research-council-grant\\\\index.html', './www.insight-centre.org\\\\insight-health-better-diagnostics-for-infant-hip-dysplasia-through-deep-learning-by-cliodhna-gartland\\\\index.html', './www.insight-centre.org\\\\insight-health-breathe-into-your-phone-update\\\\index.html', './www.insight-centre.org\\\\insight-health-finding-better-diagnostics-for-infant-hip-dysplasia\\\\index.html', './www.insight-centre.org\\\\insight-health-pandemic-preparedness\\\\index.html', './www.insight-centre.org\\\\insight-health-revolutionising-the-management-of-diabetes\\\\index.html', './www.insight-centre.org\\\\insight-health-tackling-hospital-waiting-lists-with-stimul-ai\\\\index.html', './www.insight-centre.org\\\\insight-health-using-data-analysis-to-interpret-the-human-genome\\\\index.html', './www.insight-centre.org\\\\insight-health-walk-this-way-all-about-gaitkeeper\\\\index.html', './www.insight-centre.org\\\\insight-hosts-first-irish-virtual-reality-classroom\\\\index.html', './www.insight-centre.org\\\\insight-is-hiring-check-out-our-jobs-page\\\\index.html', './www.insight-centre.org\\\\insight-led-policy-webinar-highlights-interest-in-rewetting-and-restoration-of-irish-peatlands\\\\index.html', './www.insight-centre.org\\\\insight-lero-and-connect-awarded-e4-2m-for-national-driverless-vehicle-research-project\\\\index.html', './www.insight-centre.org\\\\insight-masterclass-series-dealing-privacy-threats-that-can-arise-in-big-data-analytics\\\\index.html', './www.insight-centre.org\\\\insight-masterclass-series-mark-keane-on-the-problem-of-explainability-when-constructing-ai-systems\\\\index.html', './www.insight-centre.org\\\\insight-members-front-and-centre-in-new-pandemic-preparedness-and-response-project\\\\index.html', './www.insight-centre.org\\\\insight-music-recommender-algorithm-features-on-bbc-radio-6\\\\index.html', './www.insight-centre.org\\\\insight-partners-with-global-leader-avaya-on-next-gen-ai\\\\index.html', './www.insight-centre.org\\\\insight-research-finds-that-a-childs-ability-to-run-skip-and-hop-contributes-to-overall-healthier-outcomes\\\\index.html', './www.insight-centre.org\\\\insight-research-using-ai-to-help-predict-national-suicide-rates-features-in-national-media\\\\index.html', './www.insight-centre.org\\\\insight-researchers-feature-in-sfi-ai-research-promotion\\\\index.html', './www.insight-centre.org\\\\insight-researchers-to-feature-in-rte-change-makers-series\\\\index.html', './www.insight-centre.org\\\\insight-seeks-chief-executive-officer\\\\index.html', './www.insight-centre.org\\\\insight-spin-out-output-sports-takes-aim-at-global-soccer-market\\\\index.html', './www.insight-centre.org\\\\insight-spin-out-output-sports-wins-national-best-business-idea-at-irelands-best-young-entrepreneur-awards\\\\index.html', './www.insight-centre.org\\\\insight-spin-out-stimul-ai-to-cut-hospital-waiting-lists\\\\index.html', './www.insight-centre.org\\\\insight-spinout-athenacx-smarter-surveys\\\\index.html', './www.insight-centre.org\\\\insight-spinout-output-sports\\\\index.html', './www.insight-centre.org\\\\insight-spinout-sedicii-digital-identity-privacy\\\\index.html', './www.insight-centre.org\\\\insight-spinout-stimul-ai\\\\index.html', './www.insight-centre.org\\\\insight-spinout-xtremepush-digital-engagement\\\\index.html', './www.insight-centre.org\\\\insight-student-conference-2020\\\\index.html', './www.insight-centre.org\\\\insight-teams-with-luna-and-zipp-mobility-on-smart-scooter-data-analysis-irish-times\\\\index.html', './www.insight-centre.org\\\\insight-ucc-takes-1st-prize-in-international-elektor-maxim-competition\\\\index.html', './www.insight-centre.org\\\\insight-wellbeing-flourish\\\\index.html', './www.insight-centre.org\\\\insight-worth-e593m-to-irish-economy-new-report\\\\index.html', './www.insight-centre.org\\\\insightdcu-part-of-the-drive-behind-irelands-first-ever-zero-emissions-hydrogen-bus-tria\\\\index.html', './www.insight-centre.org\\\\insighters-coach-irelands-team-at-the-2019-international-olympiad-in-informatics\\\\index.html', './www.insight-centre.org\\\\insights-dr-denise-mcgrath-featured-on-techcentral-ie\\\\index.html', './www.insight-centre.org\\\\insights-dr-john-mccrae-honoured-with-research-excellence-award\\\\index.html', './www.insight-centre.org\\\\insights-dr-lukasz-porwol-talks-to-world-media-about-elseviers-trust-in-research-report\\\\index.html', './www.insight-centre.org\\\\insights-gaitkeeper-project-shortlisted-for-european-datsci-award\\\\index.html', './www.insight-centre.org\\\\insights-john-breslin-talks-to-tg4-about-old-ireland-in-colour\\\\index.html', './www.insight-centre.org\\\\insights-professor-claire-gormley-features-in-techcentral\\\\index.html', './www.insight-centre.org\\\\insights-sean-jordan-features-in-the-irish-times\\\\index.html', './www.insight-centre.org\\\\insights-trustworthy-ai-event-a-great-success\\\\index.html', './www.insight-centre.org\\\\insights-work-on-trustworthy-ai-acknowledged-in-irelands-new-national-strategy-for-artificial-intelligence\\\\index.html', './www.insight-centre.org\\\\insightucc-doubles-its-computer-power-courtesy-of-verizon\\\\index.html', './www.insight-centre.org\\\\ireland-and-climate-change-andrew-parnell-talks-to-silicon-republic\\\\index.html', './www.insight-centre.org\\\\ireland-and-climate-change-andrew-parnell-talks-to-silicon-republic-2\\\\index.html', './www.insight-centre.org\\\\irish-tech-news-reports-on-new-insight-ceic-project-to-support-independent-living\\\\index.html', './www.insight-centre.org\\\\its-about-empowering-not-replacing-humans-noel-oconnor-in-the-irish-independent\\\\index.html', './www.insight-centre.org\\\\john-breslin-talks-blockchain-in-the-irish-times\\\\index.html', './www.insight-centre.org\\\\john-breslins-old-ireland-in-colour-wins-irish-book-award\\\\index.html', './www.insight-centre.org\\\\latest-news\\\\index.html', './www.insight-centre.org\\\\launching-insights-online-masterclasses\\\\index.html', './www.insight-centre.org\\\\life-on-mars-ep-14-of-the-insight-podcast-out-now\\\\index.html', './www.insight-centre.org\\\\listen-and-read-professor-barry-osullivan-on-the-hse-cyber-attack\\\\index.html', './www.insight-centre.org\\\\listen-back-ceo-professor-noel-oconnor-discusses-his-vision-for-insight-2\\\\index.html', './www.insight-centre.org\\\\listen-back-ceo-professor-noel-oconnor-discusses-his-vision-for-insight-3\\\\index.html', './www.insight-centre.org\\\\listen-back-martin-oreilly-of-output-sports-talks-to-anchor-fm-about-creating-a-successful-sports-wearable-tech-spinout\\\\index.html', './www.insight-centre.org\\\\listen-dr-stephen-behan-talks-moving-well-being-well-to-newstalks-henry-mckean\\\\index.html', './www.insight-centre.org\\\\listen-prof-alan-smeaton-and-prof-barry-osullivan-on-rte-and-newstalk\\\\index.html', './www.insight-centre.org\\\\listen-prof-noel-oconnor-talks-digital-infrastructure-on-the-techradio-podcast\\\\index.html', './www.insight-centre.org\\\\listen-to-professor-alan-smeaton-on-newstalks-futureproof\\\\index.html', './www.insight-centre.org\\\\listen-to-professor-barry-osullivan-on-rtes-brendan-oconnor-show\\\\index.html', './www.insight-centre.org\\\\listen-to-we-have-to-deal-with-kangaroos-episode-4-of-the-insight-podcast-out-now\\\\index.html', './www.insight-centre.org\\\\lukasz-porwol-talks-about-public-attitudes-to-5g-with-bne-intellinews\\\\index.html', './www.insight-centre.org\\\\lukasz-porwol-talks-about-public-attitudes-to-5g-with-bne-intellinews-2\\\\index.html', './www.insight-centre.org\\\\lukasz-porwol-talks-to-elsevier-about-building-powerful-research-knowledge-bases\\\\index.html', './www.insight-centre.org\\\\masterclass-05-02-2021-demystifying-knowledge-graphs-for-enterprise\\\\index.html', './www.insight-centre.org\\\\media-queries\\\\index.html', './www.insight-centre.org\\\\meet-the-insightnui-galway-researcher-hoping-to-track-how-a-disease-spreads-using-social-media\\\\index.html', './www.insight-centre.org\\\\memories-are-made-of-this-lorin-sweeney-in-silicon-republic\\\\index.html', './www.insight-centre.org\\\\memories-are-made-of-this-lorin-sweeney-in-silicon-republic-2\\\\index.html', './www.insight-centre.org\\\\minister-harris-launches-empower-e10m-sfi-data-governance-research-spoke\\\\index.html', './www.insight-centre.org\\\\model-building\\\\index.html', './www.insight-centre.org\\\\movement-competence-association-with-physical-self-efficacy-and-physical-activity\\\\index.html', './www.insight-centre.org\\\\multimodal-data-analysis\\\\index.html', './www.insight-centre.org\\\\nature-publication-modelling-menstrual-cycle-lengths-in-athletes-using-state-space-models\\\\index.html', './www.insight-centre.org\\\\neuroinsight-awarded-e4-7-million-marie-sklodowska-curie-actions-msca-cofund\\\\index.html', './www.insight-centre.org\\\\new-insight-and-dcu-app-aims-to-take-the-stress-out-of-exam-revision\\\\index.html', './www.insight-centre.org\\\\new-insight-research-explores-how-young-people-engage-with-online-resources-when-seeking-help-for-personal-or-emotional-issues\\\\index.html', './www.insight-centre.org\\\\new-insight-research-project-on-physical-activity-levels-of-vision-impaired-and-blind-children-and-adults\\\\index.html', './www.insight-centre.org\\\\new-life-for-old-laptops-a-new-epe-initiative\\\\index.html', './www.insight-centre.org\\\\newsletter\\\\index.html', './www.insight-centre.org\\\\old-ireland-in-colour-features-in-thejournal-ie\\\\index.html', './www.insight-centre.org\\\\older-adults-invited-to-trial-new-home-technologies-developed-with-insightdcu\\\\index.html', './www.insight-centre.org\\\\opening-doors-online-course-for-europe-will-reimagine-phd-education\\\\index.html', './www.insight-centre.org\\\\opening-doors-online-course-for-europe-will-reimagine-phd-education-2\\\\index.html', './www.insight-centre.org\\\\orrecos-una-newell-describes-great-research-partnership-with-insight-in-silicon-republic\\\\index.html', './www.insight-centre.org\\\\output-sports-silicon-republics-start-up-of-the-week\\\\index.html', './www.insight-centre.org\\\\people-believe-vr-is-all-about-games-lukasz-porwol-talks-to-silicon-republic\\\\index.html', './www.insight-centre.org\\\\people-believe-vr-is-all-about-games-lukasz-porwol-talks-to-silicon-republic-2\\\\index.html', './www.insight-centre.org\\\\privacy-statement\\\\index.html', './www.insight-centre.org\\\\prof-alan-smeaton-talks-deepfakes-with-newstalks-pat-kenny\\\\index.html', './www.insight-centre.org\\\\prof-alan-smeaton-tells-rtes-brainstorm-how-to-beat-facial-recognition-software\\\\index.html', './www.insight-centre.org\\\\prof-barry-osullivan-appointed-as-chair-of-national-research-ethics-committee-for-medical-devices\\\\index.html', './www.insight-centre.org\\\\prof-ed-curry-makes-case-for-national-data-infrastructure-in-techcentral\\\\index.html', './www.insight-centre.org\\\\prof-edward-curry-appointed-director-of-insightnuigalway\\\\index.html', './www.insight-centre.org\\\\prof-madeleine-lowery-dr-emer-doheny-awarded-covid-19-rapid-response-research-funding\\\\index.html', './www.insight-centre.org\\\\prof-maire-connolly-in-the-irish-times-second-pandemic-a-real-possibility\\\\index.html', './www.insight-centre.org\\\\professor-alan-smeaton-talks-deepfakes-with-the-irish-times\\\\index.html', './www.insight-centre.org\\\\professor-barry-osullivan-elected-a-fellow-of-the-aaai\\\\index.html', './www.insight-centre.org\\\\professor-barry-osullivan-talks-ai-on-bbc-radio-foyle\\\\index.html', './www.insight-centre.org\\\\professor-barry-osullivan-wins-the-prestigious-nerode-prize\\\\index.html', './www.insight-centre.org\\\\professor-barry-smyth-talks-about-the-covid-19-fatality-gap-on-newstalk-breakfast\\\\index.html', './www.insight-centre.org\\\\professor-dermot-diamond-appointed-as-a-european-innovation-council-ambassador\\\\index.html', './www.insight-centre.org\\\\professor-eugene-c-freuder-receives-uccs-career-achievement-research-award\\\\index.html', './www.insight-centre.org\\\\professor-eugene-c-freuder-wins-the-2020-ijcai-research-excellence-award\\\\index.html', './www.insight-centre.org\\\\professor-noel-oconnor-appointed-ceo-of-the-insight-sfi-research-centre-for-data-analytics\\\\index.html', './www.insight-centre.org\\\\public-engagement\\\\index.html', './www.insight-centre.org\\\\public-engagement-highlights\\\\index.html', './www.insight-centre.org\\\\publication\\\\index.html', './www.insight-centre.org\\\\publications\\\\index.html', './www.insight-centre.org\\\\read-prof-barry-osullivan-in-the-sunday-business-post\\\\index.html', './www.insight-centre.org\\\\read-professor-alan-smeatons-work-on-keystroke-dynamics-profiled-in-researchfeatures-com\\\\index.html', './www.insight-centre.org\\\\read-professor-ed-curry-on-the-importance-of-a-more-sustainable-data-ecosystem\\\\index.html', './www.insight-centre.org\\\\read-using-data-to-improve-the-e-scooter-experience-for-everyone-dr-suzanne-little-in-intelligent-transport\\\\index.html', './www.insight-centre.org\\\\research-excellence\\\\index.html', './www.insight-centre.org\\\\research-excellence-series-ai-for-athletes\\\\index.html', './www.insight-centre.org\\\\research-excellence-series-explainable-ai\\\\index.html', './www.insight-centre.org\\\\research-excellence-series-human-visual-attention\\\\index.html', './www.insight-centre.org\\\\research-for-public-good\\\\index.html', './www.insight-centre.org\\\\research-group\\\\index.html', './www.insight-centre.org\\\\results-from-the-third-corona-citizens-science-survey-released\\\\index.html', './www.insight-centre.org\\\\round-2-of-corona-citizen-science-project-featured-in-irish-tech-news\\\\index.html', './www.insight-centre.org\\\\rte-irish-times-feature-dcus-new-fleet-of-ai-equipped-e-scooters\\\\index.html', './www.insight-centre.org\\\\s2-ep1-tears-tango-and-an-irish-mammy-the-insight-podcast-is-back\\\\index.html', './www.insight-centre.org\\\\sarah-dillon-phd-on-solving-the-puzzle-of-running-injuries\\\\index.html', './www.insight-centre.org\\\\sarah-dillon-talks-to-silicon-republic-about-solving-the-puzzle-of-injuries\\\\index.html', './www.insight-centre.org\\\\scalability\\\\index.html', './www.insight-centre.org\\\\sensing-and-actuation\\\\index.html', './www.insight-centre.org\\\\sfi-rapid-covid-response-two-funding-awards-for-insight\\\\index.html', './www.insight-centre.org\\\\smart-communities\\\\index.html', './www.insight-centre.org\\\\spotlight-on-research\\\\index.html', './www.insight-centre.org\\\\spotlight-on-research-claudette-pretorius-on-how-young-people-access-mental-health-services-online\\\\index.html', './www.insight-centre.org\\\\strategic-plan\\\\index.html', './www.insight-centre.org\\\\success-for-insight-spin-out-stimul-ai-at-intertrade-seedcorn-competition\\\\index.html', './www.insight-centre.org\\\\swab-case-study-pptx\\\\index.html', './www.insight-centre.org\\\\tanaiste-leo-varadkar-launches-insight-partner-luna-in-german-e-scooter-venture\\\\index.html', './www.insight-centre.org\\\\tech-and-virtual-reality-researchers-team-up-with-irish-national-opera-to-bring-opera-to-marginalised-communities\\\\index.html', './www.insight-centre.org\\\\technology-to-make-working-from-home-work-for-you\\\\index.html', './www.insight-centre.org\\\\the-discovery-economy\\\\index.html', './www.insight-centre.org\\\\the-elements-of-dig-data-value-new-book-edited-by-insights-dr-ed-curry-out-now\\\\index.html', './www.insight-centre.org\\\\the-eternal-memory-selected-for-the-cannes-short-film-festival\\\\index.html', './www.insight-centre.org\\\\the-eternal-memory-selected-for-the-montreal-independent-film-festival\\\\index.html', './www.insight-centre.org\\\\the-insight-podcast-episode-1-out-now\\\\index.html', './www.insight-centre.org\\\\the-insight-podcast-full-series-available-now\\\\index.html', './www.insight-centre.org\\\\the-past-is-unpredictable-ep10-of-the-insight-podcast-out-now\\\\index.html', './www.insight-centre.org\\\\the-story-behind-hurlings-new-yellow-sliotar\\\\index.html', './www.insight-centre.org\\\\the-story-of-the-new-digitised-sliotar-kieran-moran-in-rtes-brainstorm\\\\index.html', './www.insight-centre.org\\\\the-umpire-strikes-back-listen-to-ep5-of-the-insight-podcast-now\\\\index.html', './www.insight-centre.org\\\\there-are-dogs-barking-kids-crawling-on-you-alan-smeaton-in-thejournal-ie\\\\index.html', './www.insight-centre.org\\\\third-corona-citizens-science-study-survey-goes-live\\\\index.html', './www.insight-centre.org\\\\trustworthy-al\\\\index.html', './www.insight-centre.org\\\\two-insight-projects-feature-on-rtes-six-one-news\\\\index.html', './www.insight-centre.org\\\\ucc-spin-out-stimul-ai-shortlisted-for-national-start-ups-ireland-award\\\\index.html', './www.insight-centre.org\\\\united-nations-recognizes-major-irish-peatland-restoration-initiative\\\\index.html', './www.insight-centre.org\\\\updated-european-funded-projects\\\\index.html', './www.insight-centre.org\\\\war-of-independence-in-colour-a-new-rte-venture-for-prof-john-breslin\\\\index.html', './www.insight-centre.org\\\\war-of-independence-in-colour-john-breslins-fascinating-images-on-rte\\\\index.html', './www.insight-centre.org\\\\watch-crowd4access-on-rte-ky-oneill-helps-out-with-insights-groundbreaking-mapping-initiative\\\\index.html', './www.insight-centre.org\\\\watch-dr-suzanne-little-talks-about-insights-smart-stadium-research\\\\index.html', './www.insight-centre.org\\\\watch-moving-well-being-well-on-rtes-change-makers\\\\index.html', './www.insight-centre.org\\\\what-elephants-can-teach-us-about-running-injury-free-read-prof-kieran-moran-in-rtes-brainstorm\\\\index.html', './www.insight-centre.org\\\\whats-the-best-word-to-start-wordle-read-on\\\\index.html', './www.insight-centre.org\\\\work-with-us\\\\index.html']\n"
     ]
    },
    {
     "name": "stderr",
     "output_type": "stream",
     "text": [
      "Some characters could not be decoded, and were replaced with REPLACEMENT CHARACTER.\n",
      "Some characters could not be decoded, and were replaced with REPLACEMENT CHARACTER.\n"
     ]
    },
    {
     "name": "stdout",
     "output_type": "stream",
     "text": [
      "156 insight website articles found\n"
     ]
    }
   ],
   "source": [
    "%run -i collect_insight_website.py"
   ]
  },
  {
   "cell_type": "markdown",
   "id": "5b221b10-c57e-4015-8d85-d6409c44042d",
   "metadata": {
    "tags": []
   },
   "source": [
    "### Podcast Collection"
   ]
  },
  {
   "cell_type": "markdown",
   "id": "c1b77bbc-86e3-4f28-84a3-b23458f131f6",
   "metadata": {
    "jp-MarkdownHeadingCollapsed": true,
    "tags": []
   },
   "source": [
    "Dependencies:"
   ]
  },
  {
   "cell_type": "code",
   "execution_count": 7,
   "id": "70e6e832-b40e-4551-af82-3e7a0f8aeecd",
   "metadata": {},
   "outputs": [
    {
     "name": "stdout",
     "output_type": "stream",
     "text": [
      "Collecting spotipy\n",
      "  Downloading spotipy-2.19.0-py3-none-any.whl (27 kB)\n",
      "Requirement already satisfied: urllib3>=1.26.0 in c:\\users\\lukej\\appdata\\local\\packages\\pythonsoftwarefoundation.python.3.9_qbz5n2kfra8p0\\localcache\\local-packages\\python39\\site-packages (from spotipy) (1.26.3)\n",
      "Requirement already satisfied: requests>=2.25.0 in c:\\users\\lukej\\appdata\\local\\packages\\pythonsoftwarefoundation.python.3.9_qbz5n2kfra8p0\\localcache\\local-packages\\python39\\site-packages (from spotipy) (2.25.1)\n",
      "Requirement already satisfied: six>=1.15.0 in c:\\users\\lukej\\appdata\\local\\packages\\pythonsoftwarefoundation.python.3.9_qbz5n2kfra8p0\\localcache\\local-packages\\python39\\site-packages (from spotipy) (1.15.0)\n",
      "Requirement already satisfied: idna<3,>=2.5 in c:\\users\\lukej\\appdata\\local\\packages\\pythonsoftwarefoundation.python.3.9_qbz5n2kfra8p0\\localcache\\local-packages\\python39\\site-packages (from requests>=2.25.0->spotipy) (2.10)\n",
      "Requirement already satisfied: chardet<5,>=3.0.2 in c:\\users\\lukej\\appdata\\local\\packages\\pythonsoftwarefoundation.python.3.9_qbz5n2kfra8p0\\localcache\\local-packages\\python39\\site-packages (from requests>=2.25.0->spotipy) (4.0.0)\n",
      "Requirement already satisfied: certifi>=2017.4.17 in c:\\users\\lukej\\appdata\\local\\packages\\pythonsoftwarefoundation.python.3.9_qbz5n2kfra8p0\\localcache\\local-packages\\python39\\site-packages (from requests>=2.25.0->spotipy) (2020.12.5)\n",
      "Installing collected packages: spotipy\n",
      "Successfully installed spotipy-2.19.0\n"
     ]
    }
   ],
   "source": [
    "!pip install requests --upgrade\n",
    "!pip install urllib3 --upgrade\n",
    "!pip install spotipy --upgrade"
   ]
  },
  {
   "cell_type": "markdown",
   "id": "29f2d38a-30f3-4122-a98c-352a927e9b46",
   "metadata": {},
   "source": [
    "Code:"
   ]
  },
  {
   "cell_type": "code",
   "execution_count": 8,
   "id": "543c77b3-cb8e-43a2-9f2c-0cfb09041270",
   "metadata": {},
   "outputs": [
    {
     "name": "stdout",
     "output_type": "stream",
     "text": [
      "27 podcast episodes found\n"
     ]
    }
   ],
   "source": [
    "%run -i collect_podcast.py"
   ]
  },
  {
   "cell_type": "markdown",
   "id": "f388df49-c3b0-4cfd-bd9f-e1e89ce086a0",
   "metadata": {
    "jp-MarkdownHeadingCollapsed": true,
    "tags": []
   },
   "source": [
    "### Silicon Republic Collection\n",
    "\n",
    "Should be run once a week ideally\n",
    " "
   ]
  },
  {
   "cell_type": "markdown",
   "id": "eaf04b0c-c6e0-45bc-b057-db2a04aa2d60",
   "metadata": {
    "jp-MarkdownHeadingCollapsed": true,
    "tags": []
   },
   "source": [
    "Dependencies:"
   ]
  },
  {
   "cell_type": "code",
   "execution_count": null,
   "id": "25d41c57-ac39-45e9-a3b4-72d5ea27b6d2",
   "metadata": {},
   "outputs": [],
   "source": [
    "!pip install newspaper3k"
   ]
  },
  {
   "cell_type": "markdown",
   "id": "787c148e-b880-4fd5-8d5c-d3eca5b821e7",
   "metadata": {},
   "source": [
    "Code:"
   ]
  },
  {
   "cell_type": "code",
   "execution_count": 21,
   "id": "4485eafd-368c-4011-81e9-8bb88b2f4484",
   "metadata": {},
   "outputs": [
    {
     "name": "stdout",
     "output_type": "stream",
     "text": [
      "128 silicon republic articles found\n"
     ]
    }
   ],
   "source": [
    "%run -i collect_silicon_republic.py"
   ]
  },
  {
   "cell_type": "markdown",
   "id": "b8af7941-c771-4b42-9317-1e3653e78a87",
   "metadata": {
    "jp-MarkdownHeadingCollapsed": true,
    "tags": []
   },
   "source": [
    "### Twitter Collection"
   ]
  },
  {
   "cell_type": "markdown",
   "id": "721dfaa6-d2bb-49ff-a0c5-f71e568ad517",
   "metadata": {
    "jp-MarkdownHeadingCollapsed": true,
    "tags": []
   },
   "source": [
    "Dependencies:"
   ]
  },
  {
   "cell_type": "code",
   "execution_count": 25,
   "id": "7aa2032f-7261-43d2-b5db-e049e3d74d20",
   "metadata": {},
   "outputs": [
    {
     "name": "stdout",
     "output_type": "stream",
     "text": [
      "Requirement already satisfied: tweepy in c:\\users\\lukej\\appdata\\local\\packages\\pythonsoftwarefoundation.python.3.9_qbz5n2kfra8p0\\localcache\\local-packages\\python39\\site-packages (4.7.0)\n",
      "Requirement already satisfied: requests-oauthlib<2,>=1.2.0 in c:\\users\\lukej\\appdata\\local\\packages\\pythonsoftwarefoundation.python.3.9_qbz5n2kfra8p0\\localcache\\local-packages\\python39\\site-packages (from tweepy) (1.3.0)\n",
      "Requirement already satisfied: requests<3,>=2.27.0 in c:\\users\\lukej\\appdata\\local\\packages\\pythonsoftwarefoundation.python.3.9_qbz5n2kfra8p0\\localcache\\local-packages\\python39\\site-packages (from tweepy) (2.27.1)\n",
      "Requirement already satisfied: oauthlib<4,>=3.2.0 in c:\\users\\lukej\\appdata\\local\\packages\\pythonsoftwarefoundation.python.3.9_qbz5n2kfra8p0\\localcache\\local-packages\\python39\\site-packages (from tweepy) (3.2.0)\n",
      "Requirement already satisfied: charset-normalizer~=2.0.0 in c:\\users\\lukej\\appdata\\local\\packages\\pythonsoftwarefoundation.python.3.9_qbz5n2kfra8p0\\localcache\\local-packages\\python39\\site-packages (from requests<3,>=2.27.0->tweepy) (2.0.12)\n",
      "Requirement already satisfied: urllib3<1.27,>=1.21.1 in c:\\users\\lukej\\appdata\\local\\packages\\pythonsoftwarefoundation.python.3.9_qbz5n2kfra8p0\\localcache\\local-packages\\python39\\site-packages (from requests<3,>=2.27.0->tweepy) (1.26.3)\n",
      "Requirement already satisfied: certifi>=2017.4.17 in c:\\users\\lukej\\appdata\\local\\packages\\pythonsoftwarefoundation.python.3.9_qbz5n2kfra8p0\\localcache\\local-packages\\python39\\site-packages (from requests<3,>=2.27.0->tweepy) (2020.12.5)\n",
      "Requirement already satisfied: idna<4,>=2.5 in c:\\users\\lukej\\appdata\\local\\packages\\pythonsoftwarefoundation.python.3.9_qbz5n2kfra8p0\\localcache\\local-packages\\python39\\site-packages (from requests<3,>=2.27.0->tweepy) (2.10)\n",
      "Collecting wordninja\n",
      "  Downloading wordninja-2.0.0.tar.gz (541 kB)\n",
      "     -------------------------------------- 541.6/541.6 KB 6.8 MB/s eta 0:00:00\n",
      "  Preparing metadata (setup.py): started\n",
      "  Preparing metadata (setup.py): finished with status 'done'\n",
      "Using legacy 'setup.py install' for wordninja, since package 'wheel' is not installed.\n",
      "Installing collected packages: wordninja\n",
      "  Running setup.py install for wordninja: started\n",
      "  Running setup.py install for wordninja: finished with status 'done'\n",
      "Successfully installed wordninja-2.0.0\n",
      "Collecting emoji\n",
      "  Downloading emoji-1.7.0.tar.gz (175 kB)\n",
      "     -------------------------------------- 175.4/175.4 KB 5.3 MB/s eta 0:00:00\n",
      "  Preparing metadata (setup.py): started\n",
      "  Preparing metadata (setup.py): finished with status 'done'\n",
      "Using legacy 'setup.py install' for emoji, since package 'wheel' is not installed.\n",
      "Installing collected packages: emoji\n",
      "  Running setup.py install for emoji: started\n",
      "  Running setup.py install for emoji: finished with status 'done'\n",
      "Successfully installed emoji-1.7.0\n"
     ]
    }
   ],
   "source": [
    "!pip install tweepy\n",
    "!pip install wordninja\n",
    "!pip install emoji"
   ]
  },
  {
   "cell_type": "markdown",
   "id": "1eae40c2-c1bb-4040-9980-f5e0730e53a8",
   "metadata": {},
   "source": [
    "Code:"
   ]
  },
  {
   "cell_type": "code",
   "execution_count": 43,
   "id": "dccc05d8-8d8e-4ed1-a4f4-ebb20dad6524",
   "metadata": {},
   "outputs": [
    {
     "name": "stdout",
     "output_type": "stream",
     "text": [
      "136 tweets found\n"
     ]
    }
   ],
   "source": [
    "%run -i collect_tweets.py"
   ]
  },
  {
   "cell_type": "markdown",
   "id": "792eb51a-1cb1-4270-ade6-623bea1ac387",
   "metadata": {
    "jp-MarkdownHeadingCollapsed": true,
    "tags": []
   },
   "source": [
    "## Analysis\n",
    "\n",
    "Dependencies:"
   ]
  },
  {
   "cell_type": "code",
   "execution_count": 44,
   "id": "5fca8b68-45cc-4935-9517-a721a7a9842a",
   "metadata": {},
   "outputs": [
    {
     "name": "stdout",
     "output_type": "stream",
     "text": [
      "Requirement already satisfied: nltk in c:\\users\\lukej\\appdata\\local\\packages\\pythonsoftwarefoundation.python.3.9_qbz5n2kfra8p0\\localcache\\local-packages\\python39\\site-packages (3.7)\n",
      "Requirement already satisfied: click in c:\\users\\lukej\\appdata\\local\\packages\\pythonsoftwarefoundation.python.3.9_qbz5n2kfra8p0\\localcache\\local-packages\\python39\\site-packages (from nltk) (8.0.4)\n",
      "Requirement already satisfied: regex>=2021.8.3 in c:\\users\\lukej\\appdata\\local\\packages\\pythonsoftwarefoundation.python.3.9_qbz5n2kfra8p0\\localcache\\local-packages\\python39\\site-packages (from nltk) (2022.3.15)\n",
      "Requirement already satisfied: joblib in c:\\users\\lukej\\appdata\\local\\packages\\pythonsoftwarefoundation.python.3.9_qbz5n2kfra8p0\\localcache\\local-packages\\python39\\site-packages (from nltk) (1.1.0)\n",
      "Requirement already satisfied: tqdm in c:\\users\\lukej\\appdata\\local\\packages\\pythonsoftwarefoundation.python.3.9_qbz5n2kfra8p0\\localcache\\local-packages\\python39\\site-packages (from nltk) (4.63.0)\n",
      "Requirement already satisfied: colorama in c:\\users\\lukej\\appdata\\local\\packages\\pythonsoftwarefoundation.python.3.9_qbz5n2kfra8p0\\localcache\\local-packages\\python39\\site-packages (from click->nltk) (0.4.4)\n",
      "Requirement already satisfied: spacy in c:\\users\\lukej\\appdata\\local\\packages\\pythonsoftwarefoundation.python.3.9_qbz5n2kfra8p0\\localcache\\local-packages\\python39\\site-packages (3.2.3)\n",
      "Requirement already satisfied: pydantic!=1.8,!=1.8.1,<1.9.0,>=1.7.4 in c:\\users\\lukej\\appdata\\local\\packages\\pythonsoftwarefoundation.python.3.9_qbz5n2kfra8p0\\localcache\\local-packages\\python39\\site-packages (from spacy) (1.8.2)\n",
      "Requirement already satisfied: tqdm<5.0.0,>=4.38.0 in c:\\users\\lukej\\appdata\\local\\packages\\pythonsoftwarefoundation.python.3.9_qbz5n2kfra8p0\\localcache\\local-packages\\python39\\site-packages (from spacy) (4.63.0)\n",
      "Requirement already satisfied: catalogue<2.1.0,>=2.0.6 in c:\\users\\lukej\\appdata\\local\\packages\\pythonsoftwarefoundation.python.3.9_qbz5n2kfra8p0\\localcache\\local-packages\\python39\\site-packages (from spacy) (2.0.7)\n",
      "Requirement already satisfied: pathy>=0.3.5 in c:\\users\\lukej\\appdata\\local\\packages\\pythonsoftwarefoundation.python.3.9_qbz5n2kfra8p0\\localcache\\local-packages\\python39\\site-packages (from spacy) (0.6.1)\n",
      "Requirement already satisfied: numpy>=1.15.0 in c:\\users\\lukej\\appdata\\local\\packages\\pythonsoftwarefoundation.python.3.9_qbz5n2kfra8p0\\localcache\\local-packages\\python39\\site-packages (from spacy) (1.21.2)\n",
      "Requirement already satisfied: thinc<8.1.0,>=8.0.12 in c:\\users\\lukej\\appdata\\local\\packages\\pythonsoftwarefoundation.python.3.9_qbz5n2kfra8p0\\localcache\\local-packages\\python39\\site-packages (from spacy) (8.0.15)\n",
      "Requirement already satisfied: cymem<2.1.0,>=2.0.2 in c:\\users\\lukej\\appdata\\local\\packages\\pythonsoftwarefoundation.python.3.9_qbz5n2kfra8p0\\localcache\\local-packages\\python39\\site-packages (from spacy) (2.0.6)\n",
      "Requirement already satisfied: typer<0.5.0,>=0.3.0 in c:\\users\\lukej\\appdata\\local\\packages\\pythonsoftwarefoundation.python.3.9_qbz5n2kfra8p0\\localcache\\local-packages\\python39\\site-packages (from spacy) (0.4.0)\n",
      "Requirement already satisfied: setuptools in c:\\program files\\windowsapps\\pythonsoftwarefoundation.python.3.9_3.9.3056.0_x64__qbz5n2kfra8p0\\lib\\site-packages (from spacy) (58.1.0)\n",
      "Requirement already satisfied: murmurhash<1.1.0,>=0.28.0 in c:\\users\\lukej\\appdata\\local\\packages\\pythonsoftwarefoundation.python.3.9_qbz5n2kfra8p0\\localcache\\local-packages\\python39\\site-packages (from spacy) (1.0.6)\n",
      "Requirement already satisfied: blis<0.8.0,>=0.4.0 in c:\\users\\lukej\\appdata\\local\\packages\\pythonsoftwarefoundation.python.3.9_qbz5n2kfra8p0\\localcache\\local-packages\\python39\\site-packages (from spacy) (0.7.7)\n",
      "Requirement already satisfied: wasabi<1.1.0,>=0.8.1 in c:\\users\\lukej\\appdata\\local\\packages\\pythonsoftwarefoundation.python.3.9_qbz5n2kfra8p0\\localcache\\local-packages\\python39\\site-packages (from spacy) (0.9.0)\n",
      "Requirement already satisfied: spacy-legacy<3.1.0,>=3.0.8 in c:\\users\\lukej\\appdata\\local\\packages\\pythonsoftwarefoundation.python.3.9_qbz5n2kfra8p0\\localcache\\local-packages\\python39\\site-packages (from spacy) (3.0.9)\n",
      "Requirement already satisfied: spacy-loggers<2.0.0,>=1.0.0 in c:\\users\\lukej\\appdata\\local\\packages\\pythonsoftwarefoundation.python.3.9_qbz5n2kfra8p0\\localcache\\local-packages\\python39\\site-packages (from spacy) (1.0.1)\n",
      "Requirement already satisfied: srsly<3.0.0,>=2.4.1 in c:\\users\\lukej\\appdata\\local\\packages\\pythonsoftwarefoundation.python.3.9_qbz5n2kfra8p0\\localcache\\local-packages\\python39\\site-packages (from spacy) (2.4.2)\n",
      "Requirement already satisfied: requests<3.0.0,>=2.13.0 in c:\\users\\lukej\\appdata\\local\\packages\\pythonsoftwarefoundation.python.3.9_qbz5n2kfra8p0\\localcache\\local-packages\\python39\\site-packages (from spacy) (2.27.1)\n",
      "Requirement already satisfied: packaging>=20.0 in c:\\users\\lukej\\appdata\\local\\packages\\pythonsoftwarefoundation.python.3.9_qbz5n2kfra8p0\\localcache\\local-packages\\python39\\site-packages (from spacy) (20.9)\n",
      "Requirement already satisfied: preshed<3.1.0,>=3.0.2 in c:\\users\\lukej\\appdata\\local\\packages\\pythonsoftwarefoundation.python.3.9_qbz5n2kfra8p0\\localcache\\local-packages\\python39\\site-packages (from spacy) (3.0.6)\n",
      "Requirement already satisfied: jinja2 in c:\\users\\lukej\\appdata\\local\\packages\\pythonsoftwarefoundation.python.3.9_qbz5n2kfra8p0\\localcache\\local-packages\\python39\\site-packages (from spacy) (3.0.3)\n",
      "Requirement already satisfied: langcodes<4.0.0,>=3.2.0 in c:\\users\\lukej\\appdata\\local\\packages\\pythonsoftwarefoundation.python.3.9_qbz5n2kfra8p0\\localcache\\local-packages\\python39\\site-packages (from spacy) (3.3.0)\n",
      "Requirement already satisfied: pyparsing>=2.0.2 in c:\\users\\lukej\\appdata\\local\\packages\\pythonsoftwarefoundation.python.3.9_qbz5n2kfra8p0\\localcache\\local-packages\\python39\\site-packages (from packaging>=20.0->spacy) (2.4.7)\n",
      "Requirement already satisfied: smart-open<6.0.0,>=5.0.0 in c:\\users\\lukej\\appdata\\local\\packages\\pythonsoftwarefoundation.python.3.9_qbz5n2kfra8p0\\localcache\\local-packages\\python39\\site-packages (from pathy>=0.3.5->spacy) (5.2.1)\n",
      "Requirement already satisfied: typing-extensions>=3.7.4.3 in c:\\users\\lukej\\appdata\\local\\packages\\pythonsoftwarefoundation.python.3.9_qbz5n2kfra8p0\\localcache\\local-packages\\python39\\site-packages (from pydantic!=1.8,!=1.8.1,<1.9.0,>=1.7.4->spacy) (4.1.1)\n",
      "Requirement already satisfied: charset-normalizer~=2.0.0 in c:\\users\\lukej\\appdata\\local\\packages\\pythonsoftwarefoundation.python.3.9_qbz5n2kfra8p0\\localcache\\local-packages\\python39\\site-packages (from requests<3.0.0,>=2.13.0->spacy) (2.0.12)\n",
      "Requirement already satisfied: idna<4,>=2.5 in c:\\users\\lukej\\appdata\\local\\packages\\pythonsoftwarefoundation.python.3.9_qbz5n2kfra8p0\\localcache\\local-packages\\python39\\site-packages (from requests<3.0.0,>=2.13.0->spacy) (2.10)\n",
      "Requirement already satisfied: urllib3<1.27,>=1.21.1 in c:\\users\\lukej\\appdata\\local\\packages\\pythonsoftwarefoundation.python.3.9_qbz5n2kfra8p0\\localcache\\local-packages\\python39\\site-packages (from requests<3.0.0,>=2.13.0->spacy) (1.26.3)\n",
      "Requirement already satisfied: certifi>=2017.4.17 in c:\\users\\lukej\\appdata\\local\\packages\\pythonsoftwarefoundation.python.3.9_qbz5n2kfra8p0\\localcache\\local-packages\\python39\\site-packages (from requests<3.0.0,>=2.13.0->spacy) (2020.12.5)\n",
      "Requirement already satisfied: colorama in c:\\users\\lukej\\appdata\\local\\packages\\pythonsoftwarefoundation.python.3.9_qbz5n2kfra8p0\\localcache\\local-packages\\python39\\site-packages (from tqdm<5.0.0,>=4.38.0->spacy) (0.4.4)\n",
      "Requirement already satisfied: click<9.0.0,>=7.1.1 in c:\\users\\lukej\\appdata\\local\\packages\\pythonsoftwarefoundation.python.3.9_qbz5n2kfra8p0\\localcache\\local-packages\\python39\\site-packages (from typer<0.5.0,>=0.3.0->spacy) (8.0.4)\n",
      "Requirement already satisfied: MarkupSafe>=2.0 in c:\\users\\lukej\\appdata\\local\\packages\\pythonsoftwarefoundation.python.3.9_qbz5n2kfra8p0\\localcache\\local-packages\\python39\\site-packages (from jinja2->spacy) (2.1.1)\n",
      "Collecting en-core-web-lg==3.2.0\n",
      "  Downloading https://github.com/explosion/spacy-models/releases/download/en_core_web_lg-3.2.0/en_core_web_lg-3.2.0-py3-none-any.whl (777.4 MB)\n",
      "     ------------------------------------ 777.4/777.4 MB 924.9 kB/s eta 0:00:00\n",
      "Requirement already satisfied: spacy<3.3.0,>=3.2.0 in c:\\users\\lukej\\appdata\\local\\packages\\pythonsoftwarefoundation.python.3.9_qbz5n2kfra8p0\\localcache\\local-packages\\python39\\site-packages (from en-core-web-lg==3.2.0) (3.2.3)\n",
      "Requirement already satisfied: pydantic!=1.8,!=1.8.1,<1.9.0,>=1.7.4 in c:\\users\\lukej\\appdata\\local\\packages\\pythonsoftwarefoundation.python.3.9_qbz5n2kfra8p0\\localcache\\local-packages\\python39\\site-packages (from spacy<3.3.0,>=3.2.0->en-core-web-lg==3.2.0) (1.8.2)\n",
      "Requirement already satisfied: packaging>=20.0 in c:\\users\\lukej\\appdata\\local\\packages\\pythonsoftwarefoundation.python.3.9_qbz5n2kfra8p0\\localcache\\local-packages\\python39\\site-packages (from spacy<3.3.0,>=3.2.0->en-core-web-lg==3.2.0) (20.9)\n",
      "Requirement already satisfied: typer<0.5.0,>=0.3.0 in c:\\users\\lukej\\appdata\\local\\packages\\pythonsoftwarefoundation.python.3.9_qbz5n2kfra8p0\\localcache\\local-packages\\python39\\site-packages (from spacy<3.3.0,>=3.2.0->en-core-web-lg==3.2.0) (0.4.0)\n",
      "Requirement already satisfied: cymem<2.1.0,>=2.0.2 in c:\\users\\lukej\\appdata\\local\\packages\\pythonsoftwarefoundation.python.3.9_qbz5n2kfra8p0\\localcache\\local-packages\\python39\\site-packages (from spacy<3.3.0,>=3.2.0->en-core-web-lg==3.2.0) (2.0.6)\n",
      "Requirement already satisfied: langcodes<4.0.0,>=3.2.0 in c:\\users\\lukej\\appdata\\local\\packages\\pythonsoftwarefoundation.python.3.9_qbz5n2kfra8p0\\localcache\\local-packages\\python39\\site-packages (from spacy<3.3.0,>=3.2.0->en-core-web-lg==3.2.0) (3.3.0)\n",
      "Requirement already satisfied: jinja2 in c:\\users\\lukej\\appdata\\local\\packages\\pythonsoftwarefoundation.python.3.9_qbz5n2kfra8p0\\localcache\\local-packages\\python39\\site-packages (from spacy<3.3.0,>=3.2.0->en-core-web-lg==3.2.0) (3.0.3)\n",
      "Requirement already satisfied: spacy-legacy<3.1.0,>=3.0.8 in c:\\users\\lukej\\appdata\\local\\packages\\pythonsoftwarefoundation.python.3.9_qbz5n2kfra8p0\\localcache\\local-packages\\python39\\site-packages (from spacy<3.3.0,>=3.2.0->en-core-web-lg==3.2.0) (3.0.9)\n",
      "Requirement already satisfied: spacy-loggers<2.0.0,>=1.0.0 in c:\\users\\lukej\\appdata\\local\\packages\\pythonsoftwarefoundation.python.3.9_qbz5n2kfra8p0\\localcache\\local-packages\\python39\\site-packages (from spacy<3.3.0,>=3.2.0->en-core-web-lg==3.2.0) (1.0.1)\n",
      "Requirement already satisfied: blis<0.8.0,>=0.4.0 in c:\\users\\lukej\\appdata\\local\\packages\\pythonsoftwarefoundation.python.3.9_qbz5n2kfra8p0\\localcache\\local-packages\\python39\\site-packages (from spacy<3.3.0,>=3.2.0->en-core-web-lg==3.2.0) (0.7.7)\n",
      "Requirement already satisfied: murmurhash<1.1.0,>=0.28.0 in c:\\users\\lukej\\appdata\\local\\packages\\pythonsoftwarefoundation.python.3.9_qbz5n2kfra8p0\\localcache\\local-packages\\python39\\site-packages (from spacy<3.3.0,>=3.2.0->en-core-web-lg==3.2.0) (1.0.6)\n",
      "Requirement already satisfied: numpy>=1.15.0 in c:\\users\\lukej\\appdata\\local\\packages\\pythonsoftwarefoundation.python.3.9_qbz5n2kfra8p0\\localcache\\local-packages\\python39\\site-packages (from spacy<3.3.0,>=3.2.0->en-core-web-lg==3.2.0) (1.21.2)\n",
      "Requirement already satisfied: setuptools in c:\\program files\\windowsapps\\pythonsoftwarefoundation.python.3.9_3.9.3056.0_x64__qbz5n2kfra8p0\\lib\\site-packages (from spacy<3.3.0,>=3.2.0->en-core-web-lg==3.2.0) (58.1.0)\n",
      "Requirement already satisfied: catalogue<2.1.0,>=2.0.6 in c:\\users\\lukej\\appdata\\local\\packages\\pythonsoftwarefoundation.python.3.9_qbz5n2kfra8p0\\localcache\\local-packages\\python39\\site-packages (from spacy<3.3.0,>=3.2.0->en-core-web-lg==3.2.0) (2.0.7)\n",
      "Requirement already satisfied: wasabi<1.1.0,>=0.8.1 in c:\\users\\lukej\\appdata\\local\\packages\\pythonsoftwarefoundation.python.3.9_qbz5n2kfra8p0\\localcache\\local-packages\\python39\\site-packages (from spacy<3.3.0,>=3.2.0->en-core-web-lg==3.2.0) (0.9.0)\n",
      "Requirement already satisfied: preshed<3.1.0,>=3.0.2 in c:\\users\\lukej\\appdata\\local\\packages\\pythonsoftwarefoundation.python.3.9_qbz5n2kfra8p0\\localcache\\local-packages\\python39\\site-packages (from spacy<3.3.0,>=3.2.0->en-core-web-lg==3.2.0) (3.0.6)\n",
      "Requirement already satisfied: requests<3.0.0,>=2.13.0 in c:\\users\\lukej\\appdata\\local\\packages\\pythonsoftwarefoundation.python.3.9_qbz5n2kfra8p0\\localcache\\local-packages\\python39\\site-packages (from spacy<3.3.0,>=3.2.0->en-core-web-lg==3.2.0) (2.27.1)\n",
      "Requirement already satisfied: srsly<3.0.0,>=2.4.1 in c:\\users\\lukej\\appdata\\local\\packages\\pythonsoftwarefoundation.python.3.9_qbz5n2kfra8p0\\localcache\\local-packages\\python39\\site-packages (from spacy<3.3.0,>=3.2.0->en-core-web-lg==3.2.0) (2.4.2)\n",
      "Requirement already satisfied: thinc<8.1.0,>=8.0.12 in c:\\users\\lukej\\appdata\\local\\packages\\pythonsoftwarefoundation.python.3.9_qbz5n2kfra8p0\\localcache\\local-packages\\python39\\site-packages (from spacy<3.3.0,>=3.2.0->en-core-web-lg==3.2.0) (8.0.15)\n",
      "Requirement already satisfied: pathy>=0.3.5 in c:\\users\\lukej\\appdata\\local\\packages\\pythonsoftwarefoundation.python.3.9_qbz5n2kfra8p0\\localcache\\local-packages\\python39\\site-packages (from spacy<3.3.0,>=3.2.0->en-core-web-lg==3.2.0) (0.6.1)\n",
      "Requirement already satisfied: tqdm<5.0.0,>=4.38.0 in c:\\users\\lukej\\appdata\\local\\packages\\pythonsoftwarefoundation.python.3.9_qbz5n2kfra8p0\\localcache\\local-packages\\python39\\site-packages (from spacy<3.3.0,>=3.2.0->en-core-web-lg==3.2.0) (4.63.0)\n",
      "Requirement already satisfied: pyparsing>=2.0.2 in c:\\users\\lukej\\appdata\\local\\packages\\pythonsoftwarefoundation.python.3.9_qbz5n2kfra8p0\\localcache\\local-packages\\python39\\site-packages (from packaging>=20.0->spacy<3.3.0,>=3.2.0->en-core-web-lg==3.2.0) (2.4.7)\n",
      "Requirement already satisfied: smart-open<6.0.0,>=5.0.0 in c:\\users\\lukej\\appdata\\local\\packages\\pythonsoftwarefoundation.python.3.9_qbz5n2kfra8p0\\localcache\\local-packages\\python39\\site-packages (from pathy>=0.3.5->spacy<3.3.0,>=3.2.0->en-core-web-lg==3.2.0) (5.2.1)\n",
      "Requirement already satisfied: typing-extensions>=3.7.4.3 in c:\\users\\lukej\\appdata\\local\\packages\\pythonsoftwarefoundation.python.3.9_qbz5n2kfra8p0\\localcache\\local-packages\\python39\\site-packages (from pydantic!=1.8,!=1.8.1,<1.9.0,>=1.7.4->spacy<3.3.0,>=3.2.0->en-core-web-lg==3.2.0) (4.1.1)\n",
      "Requirement already satisfied: charset-normalizer~=2.0.0 in c:\\users\\lukej\\appdata\\local\\packages\\pythonsoftwarefoundation.python.3.9_qbz5n2kfra8p0\\localcache\\local-packages\\python39\\site-packages (from requests<3.0.0,>=2.13.0->spacy<3.3.0,>=3.2.0->en-core-web-lg==3.2.0) (2.0.12)\n",
      "Requirement already satisfied: urllib3<1.27,>=1.21.1 in c:\\users\\lukej\\appdata\\local\\packages\\pythonsoftwarefoundation.python.3.9_qbz5n2kfra8p0\\localcache\\local-packages\\python39\\site-packages (from requests<3.0.0,>=2.13.0->spacy<3.3.0,>=3.2.0->en-core-web-lg==3.2.0) (1.26.3)\n",
      "Requirement already satisfied: idna<4,>=2.5 in c:\\users\\lukej\\appdata\\local\\packages\\pythonsoftwarefoundation.python.3.9_qbz5n2kfra8p0\\localcache\\local-packages\\python39\\site-packages (from requests<3.0.0,>=2.13.0->spacy<3.3.0,>=3.2.0->en-core-web-lg==3.2.0) (2.10)\n",
      "Requirement already satisfied: certifi>=2017.4.17 in c:\\users\\lukej\\appdata\\local\\packages\\pythonsoftwarefoundation.python.3.9_qbz5n2kfra8p0\\localcache\\local-packages\\python39\\site-packages (from requests<3.0.0,>=2.13.0->spacy<3.3.0,>=3.2.0->en-core-web-lg==3.2.0) (2020.12.5)\n",
      "Requirement already satisfied: colorama in c:\\users\\lukej\\appdata\\local\\packages\\pythonsoftwarefoundation.python.3.9_qbz5n2kfra8p0\\localcache\\local-packages\\python39\\site-packages (from tqdm<5.0.0,>=4.38.0->spacy<3.3.0,>=3.2.0->en-core-web-lg==3.2.0) (0.4.4)\n",
      "Requirement already satisfied: click<9.0.0,>=7.1.1 in c:\\users\\lukej\\appdata\\local\\packages\\pythonsoftwarefoundation.python.3.9_qbz5n2kfra8p0\\localcache\\local-packages\\python39\\site-packages (from typer<0.5.0,>=0.3.0->spacy<3.3.0,>=3.2.0->en-core-web-lg==3.2.0) (8.0.4)\n",
      "Requirement already satisfied: MarkupSafe>=2.0 in c:\\users\\lukej\\appdata\\local\\packages\\pythonsoftwarefoundation.python.3.9_qbz5n2kfra8p0\\localcache\\local-packages\\python39\\site-packages (from jinja2->spacy<3.3.0,>=3.2.0->en-core-web-lg==3.2.0) (2.1.1)\n",
      "[+] Download and installation successful\n",
      "You can now load the package via spacy.load('en_core_web_lg')\n",
      "Collecting en-core-web-sm==3.2.0\n",
      "  Downloading https://github.com/explosion/spacy-models/releases/download/en_core_web_sm-3.2.0/en_core_web_sm-3.2.0-py3-none-any.whl (13.9 MB)\n",
      "     ---------------------------------------- 13.9/13.9 MB 6.6 MB/s eta 0:00:00\n",
      "Requirement already satisfied: spacy<3.3.0,>=3.2.0 in c:\\users\\lukej\\appdata\\local\\packages\\pythonsoftwarefoundation.python.3.9_qbz5n2kfra8p0\\localcache\\local-packages\\python39\\site-packages (from en-core-web-sm==3.2.0) (3.2.3)\n",
      "Requirement already satisfied: pydantic!=1.8,!=1.8.1,<1.9.0,>=1.7.4 in c:\\users\\lukej\\appdata\\local\\packages\\pythonsoftwarefoundation.python.3.9_qbz5n2kfra8p0\\localcache\\local-packages\\python39\\site-packages (from spacy<3.3.0,>=3.2.0->en-core-web-sm==3.2.0) (1.8.2)\n",
      "Requirement already satisfied: typer<0.5.0,>=0.3.0 in c:\\users\\lukej\\appdata\\local\\packages\\pythonsoftwarefoundation.python.3.9_qbz5n2kfra8p0\\localcache\\local-packages\\python39\\site-packages (from spacy<3.3.0,>=3.2.0->en-core-web-sm==3.2.0) (0.4.0)\n",
      "Requirement already satisfied: packaging>=20.0 in c:\\users\\lukej\\appdata\\local\\packages\\pythonsoftwarefoundation.python.3.9_qbz5n2kfra8p0\\localcache\\local-packages\\python39\\site-packages (from spacy<3.3.0,>=3.2.0->en-core-web-sm==3.2.0) (20.9)\n",
      "Requirement already satisfied: tqdm<5.0.0,>=4.38.0 in c:\\users\\lukej\\appdata\\local\\packages\\pythonsoftwarefoundation.python.3.9_qbz5n2kfra8p0\\localcache\\local-packages\\python39\\site-packages (from spacy<3.3.0,>=3.2.0->en-core-web-sm==3.2.0) (4.63.0)\n",
      "Requirement already satisfied: setuptools in c:\\program files\\windowsapps\\pythonsoftwarefoundation.python.3.9_3.9.3056.0_x64__qbz5n2kfra8p0\\lib\\site-packages (from spacy<3.3.0,>=3.2.0->en-core-web-sm==3.2.0) (58.1.0)\n",
      "Requirement already satisfied: preshed<3.1.0,>=3.0.2 in c:\\users\\lukej\\appdata\\local\\packages\\pythonsoftwarefoundation.python.3.9_qbz5n2kfra8p0\\localcache\\local-packages\\python39\\site-packages (from spacy<3.3.0,>=3.2.0->en-core-web-sm==3.2.0) (3.0.6)\n",
      "Requirement already satisfied: pathy>=0.3.5 in c:\\users\\lukej\\appdata\\local\\packages\\pythonsoftwarefoundation.python.3.9_qbz5n2kfra8p0\\localcache\\local-packages\\python39\\site-packages (from spacy<3.3.0,>=3.2.0->en-core-web-sm==3.2.0) (0.6.1)"
     ]
    },
    {
     "name": "stderr",
     "output_type": "stream",
     "text": [
      "[nltk_data] Downloading package maxent_ne_chunker to\n",
      "[nltk_data]     C:\\Users\\lukej\\AppData\\Roaming\\nltk_data...\n",
      "[nltk_data]   Package maxent_ne_chunker is already up-to-date!\n",
      "[nltk_data] Downloading package words to\n",
      "[nltk_data]     C:\\Users\\lukej\\AppData\\Roaming\\nltk_data...\n",
      "[nltk_data]   Package words is already up-to-date!\n",
      "[nltk_data] Downloading package treebank to\n",
      "[nltk_data]     C:\\Users\\lukej\\AppData\\Roaming\\nltk_data...\n",
      "[nltk_data]   Package treebank is already up-to-date!\n",
      "[nltk_data] Downloading package maxent_treebank_pos_tagger to\n",
      "[nltk_data]     C:\\Users\\lukej\\AppData\\Roaming\\nltk_data...\n",
      "[nltk_data]   Package maxent_treebank_pos_tagger is already up-to-\n",
      "[nltk_data]       date!\n",
      "[nltk_data] Downloading package punkt to\n",
      "[nltk_data]     C:\\Users\\lukej\\AppData\\Roaming\\nltk_data...\n",
      "[nltk_data]   Package punkt is already up-to-date!\n",
      "[nltk_data] Downloading package averaged_perceptron_tagger to\n",
      "[nltk_data]     C:\\Users\\lukej\\AppData\\Roaming\\nltk_data...\n",
      "[nltk_data]   Package averaged_perceptron_tagger is already up-to-\n",
      "[nltk_data]       date!\n"
     ]
    },
    {
     "name": "stdout",
     "output_type": "stream",
     "text": [
      "\n",
      "Requirement already satisfied: blis<0.8.0,>=0.4.0 in c:\\users\\lukej\\appdata\\local\\packages\\pythonsoftwarefoundation.python.3.9_qbz5n2kfra8p0\\localcache\\local-packages\\python39\\site-packages (from spacy<3.3.0,>=3.2.0->en-core-web-sm==3.2.0) (0.7.7)\n",
      "Requirement already satisfied: requests<3.0.0,>=2.13.0 in c:\\users\\lukej\\appdata\\local\\packages\\pythonsoftwarefoundation.python.3.9_qbz5n2kfra8p0\\localcache\\local-packages\\python39\\site-packages (from spacy<3.3.0,>=3.2.0->en-core-web-sm==3.2.0) (2.27.1)\n",
      "Requirement already satisfied: jinja2 in c:\\users\\lukej\\appdata\\local\\packages\\pythonsoftwarefoundation.python.3.9_qbz5n2kfra8p0\\localcache\\local-packages\\python39\\site-packages (from spacy<3.3.0,>=3.2.0->en-core-web-sm==3.2.0) (3.0.3)\n",
      "Requirement already satisfied: catalogue<2.1.0,>=2.0.6 in c:\\users\\lukej\\appdata\\local\\packages\\pythonsoftwarefoundation.python.3.9_qbz5n2kfra8p0\\localcache\\local-packages\\python39\\site-packages (from spacy<3.3.0,>=3.2.0->en-core-web-sm==3.2.0) (2.0.7)\n",
      "Requirement already satisfied: cymem<2.1.0,>=2.0.2 in c:\\users\\lukej\\appdata\\local\\packages\\pythonsoftwarefoundation.python.3.9_qbz5n2kfra8p0\\localcache\\local-packages\\python39\\site-packages (from spacy<3.3.0,>=3.2.0->en-core-web-sm==3.2.0) (2.0.6)\n",
      "Requirement already satisfied: thinc<8.1.0,>=8.0.12 in c:\\users\\lukej\\appdata\\local\\packages\\pythonsoftwarefoundation.python.3.9_qbz5n2kfra8p0\\localcache\\local-packages\\python39\\site-packages (from spacy<3.3.0,>=3.2.0->en-core-web-sm==3.2.0) (8.0.15)\n",
      "Requirement already satisfied: numpy>=1.15.0 in c:\\users\\lukej\\appdata\\local\\packages\\pythonsoftwarefoundation.python.3.9_qbz5n2kfra8p0\\localcache\\local-packages\\python39\\site-packages (from spacy<3.3.0,>=3.2.0->en-core-web-sm==3.2.0) (1.21.2)\n",
      "Requirement already satisfied: murmurhash<1.1.0,>=0.28.0 in c:\\users\\lukej\\appdata\\local\\packages\\pythonsoftwarefoundation.python.3.9_qbz5n2kfra8p0\\localcache\\local-packages\\python39\\site-packages (from spacy<3.3.0,>=3.2.0->en-core-web-sm==3.2.0) (1.0.6)\n",
      "Requirement already satisfied: wasabi<1.1.0,>=0.8.1 in c:\\users\\lukej\\appdata\\local\\packages\\pythonsoftwarefoundation.python.3.9_qbz5n2kfra8p0\\localcache\\local-packages\\python39\\site-packages (from spacy<3.3.0,>=3.2.0->en-core-web-sm==3.2.0) (0.9.0)\n",
      "Requirement already satisfied: spacy-legacy<3.1.0,>=3.0.8 in c:\\users\\lukej\\appdata\\local\\packages\\pythonsoftwarefoundation.python.3.9_qbz5n2kfra8p0\\localcache\\local-packages\\python39\\site-packages (from spacy<3.3.0,>=3.2.0->en-core-web-sm==3.2.0) (3.0.9)\n",
      "Requirement already satisfied: langcodes<4.0.0,>=3.2.0 in c:\\users\\lukej\\appdata\\local\\packages\\pythonsoftwarefoundation.python.3.9_qbz5n2kfra8p0\\localcache\\local-packages\\python39\\site-packages (from spacy<3.3.0,>=3.2.0->en-core-web-sm==3.2.0) (3.3.0)\n",
      "Requirement already satisfied: srsly<3.0.0,>=2.4.1 in c:\\users\\lukej\\appdata\\local\\packages\\pythonsoftwarefoundation.python.3.9_qbz5n2kfra8p0\\localcache\\local-packages\\python39\\site-packages (from spacy<3.3.0,>=3.2.0->en-core-web-sm==3.2.0) (2.4.2)\n",
      "Requirement already satisfied: spacy-loggers<2.0.0,>=1.0.0 in c:\\users\\lukej\\appdata\\local\\packages\\pythonsoftwarefoundation.python.3.9_qbz5n2kfra8p0\\localcache\\local-packages\\python39\\site-packages (from spacy<3.3.0,>=3.2.0->en-core-web-sm==3.2.0) (1.0.1)\n",
      "Requirement already satisfied: pyparsing>=2.0.2 in c:\\users\\lukej\\appdata\\local\\packages\\pythonsoftwarefoundation.python.3.9_qbz5n2kfra8p0\\localcache\\local-packages\\python39\\site-packages (from packaging>=20.0->spacy<3.3.0,>=3.2.0->en-core-web-sm==3.2.0) (2.4.7)\n",
      "Requirement already satisfied: smart-open<6.0.0,>=5.0.0 in c:\\users\\lukej\\appdata\\local\\packages\\pythonsoftwarefoundation.python.3.9_qbz5n2kfra8p0\\localcache\\local-packages\\python39\\site-packages (from pathy>=0.3.5->spacy<3.3.0,>=3.2.0->en-core-web-sm==3.2.0) (5.2.1)\n",
      "Requirement already satisfied: typing-extensions>=3.7.4.3 in c:\\users\\lukej\\appdata\\local\\packages\\pythonsoftwarefoundation.python.3.9_qbz5n2kfra8p0\\localcache\\local-packages\\python39\\site-packages (from pydantic!=1.8,!=1.8.1,<1.9.0,>=1.7.4->spacy<3.3.0,>=3.2.0->en-core-web-sm==3.2.0) (4.1.1)\n",
      "Requirement already satisfied: charset-normalizer~=2.0.0 in c:\\users\\lukej\\appdata\\local\\packages\\pythonsoftwarefoundation.python.3.9_qbz5n2kfra8p0\\localcache\\local-packages\\python39\\site-packages (from requests<3.0.0,>=2.13.0->spacy<3.3.0,>=3.2.0->en-core-web-sm==3.2.0) (2.0.12)\n",
      "Requirement already satisfied: urllib3<1.27,>=1.21.1 in c:\\users\\lukej\\appdata\\local\\packages\\pythonsoftwarefoundation.python.3.9_qbz5n2kfra8p0\\localcache\\local-packages\\python39\\site-packages (from requests<3.0.0,>=2.13.0->spacy<3.3.0,>=3.2.0->en-core-web-sm==3.2.0) (1.26.3)\n",
      "Requirement already satisfied: certifi>=2017.4.17 in c:\\users\\lukej\\appdata\\local\\packages\\pythonsoftwarefoundation.python.3.9_qbz5n2kfra8p0\\localcache\\local-packages\\python39\\site-packages (from requests<3.0.0,>=2.13.0->spacy<3.3.0,>=3.2.0->en-core-web-sm==3.2.0) (2020.12.5)\n",
      "Requirement already satisfied: idna<4,>=2.5 in c:\\users\\lukej\\appdata\\local\\packages\\pythonsoftwarefoundation.python.3.9_qbz5n2kfra8p0\\localcache\\local-packages\\python39\\site-packages (from requests<3.0.0,>=2.13.0->spacy<3.3.0,>=3.2.0->en-core-web-sm==3.2.0) (2.10)\n",
      "Requirement already satisfied: colorama in c:\\users\\lukej\\appdata\\local\\packages\\pythonsoftwarefoundation.python.3.9_qbz5n2kfra8p0\\localcache\\local-packages\\python39\\site-packages (from tqdm<5.0.0,>=4.38.0->spacy<3.3.0,>=3.2.0->en-core-web-sm==3.2.0) (0.4.4)\n",
      "Requirement already satisfied: click<9.0.0,>=7.1.1 in c:\\users\\lukej\\appdata\\local\\packages\\pythonsoftwarefoundation.python.3.9_qbz5n2kfra8p0\\localcache\\local-packages\\python39\\site-packages (from typer<0.5.0,>=0.3.0->spacy<3.3.0,>=3.2.0->en-core-web-sm==3.2.0) (8.0.4)\n",
      "Requirement already satisfied: MarkupSafe>=2.0 in c:\\users\\lukej\\appdata\\local\\packages\\pythonsoftwarefoundation.python.3.9_qbz5n2kfra8p0\\localcache\\local-packages\\python39\\site-packages (from jinja2->spacy<3.3.0,>=3.2.0->en-core-web-sm==3.2.0) (2.1.1)\n",
      "[+] Download and installation successful\n",
      "You can now load the package via spacy.load('en_core_web_sm')\n",
      "Requirement already satisfied: python-dateutil in c:\\users\\lukej\\appdata\\local\\packages\\pythonsoftwarefoundation.python.3.9_qbz5n2kfra8p0\\localcache\\local-packages\\python39\\site-packages (2.8.2)\n",
      "Requirement already satisfied: six>=1.5 in c:\\users\\lukej\\appdata\\local\\packages\\pythonsoftwarefoundation.python.3.9_qbz5n2kfra8p0\\localcache\\local-packages\\python39\\site-packages (from python-dateutil) (1.15.0)\n",
      "Requirement already satisfied: magicdate in c:\\users\\lukej\\appdata\\local\\packages\\pythonsoftwarefoundation.python.3.9_qbz5n2kfra8p0\\localcache\\local-packages\\python39\\site-packages (0.2.2)\n",
      "Requirement already satisfied: newspaper3k in c:\\users\\lukej\\appdata\\local\\packages\\pythonsoftwarefoundation.python.3.9_qbz5n2kfra8p0\\localcache\\local-packages\\python39\\site-packages (0.2.8)\n",
      "Requirement already satisfied: beautifulsoup4>=4.4.1 in c:\\users\\lukej\\appdata\\local\\packages\\pythonsoftwarefoundation.python.3.9_qbz5n2kfra8p0\\localcache\\local-packages\\python39\\site-packages (from newspaper3k) (4.10.0)\n",
      "Requirement already satisfied: requests>=2.10.0 in c:\\users\\lukej\\appdata\\local\\packages\\pythonsoftwarefoundation.python.3.9_qbz5n2kfra8p0\\localcache\\local-packages\\python39\\site-packages (from newspaper3k) (2.27.1)\n",
      "Requirement already satisfied: tldextract>=2.0.1 in c:\\users\\lukej\\appdata\\local\\packages\\pythonsoftwarefoundation.python.3.9_qbz5n2kfra8p0\\localcache\\local-packages\\python39\\site-packages (from newspaper3k) (3.2.0)\n",
      "Requirement already satisfied: jieba3k>=0.35.1 in c:\\users\\lukej\\appdata\\local\\packages\\pythonsoftwarefoundation.python.3.9_qbz5n2kfra8p0\\localcache\\local-packages\\python39\\site-packages (from newspaper3k) (0.35.1)\n",
      "Requirement already satisfied: tinysegmenter==0.3 in c:\\users\\lukej\\appdata\\local\\packages\\pythonsoftwarefoundation.python.3.9_qbz5n2kfra8p0\\localcache\\local-packages\\python39\\site-packages (from newspaper3k) (0.3)\n",
      "Requirement already satisfied: feedparser>=5.2.1 in c:\\users\\lukej\\appdata\\local\\packages\\pythonsoftwarefoundation.python.3.9_qbz5n2kfra8p0\\localcache\\local-packages\\python39\\site-packages (from newspaper3k) (6.0.8)\n",
      "Requirement already satisfied: lxml>=3.6.0 in c:\\users\\lukej\\appdata\\local\\packages\\pythonsoftwarefoundation.python.3.9_qbz5n2kfra8p0\\localcache\\local-packages\\python39\\site-packages (from newspaper3k) (4.8.0)\n",
      "Requirement already satisfied: cssselect>=0.9.2 in c:\\users\\lukej\\appdata\\local\\packages\\pythonsoftwarefoundation.python.3.9_qbz5n2kfra8p0\\localcache\\local-packages\\python39\\site-packages (from newspaper3k) (1.1.0)\n",
      "Requirement already satisfied: feedfinder2>=0.0.4 in c:\\users\\lukej\\appdata\\local\\packages\\pythonsoftwarefoundation.python.3.9_qbz5n2kfra8p0\\localcache\\local-packages\\python39\\site-packages (from newspaper3k) (0.0.4)\n",
      "Requirement already satisfied: nltk>=3.2.1 in c:\\users\\lukej\\appdata\\local\\packages\\pythonsoftwarefoundation.python.3.9_qbz5n2kfra8p0\\localcache\\local-packages\\python39\\site-packages (from newspaper3k) (3.7)\n",
      "Requirement already satisfied: PyYAML>=3.11 in c:\\users\\lukej\\appdata\\local\\packages\\pythonsoftwarefoundation.python.3.9_qbz5n2kfra8p0\\localcache\\local-packages\\python39\\site-packages (from newspaper3k) (6.0)\n",
      "Requirement already satisfied: Pillow>=3.3.0 in c:\\users\\lukej\\appdata\\local\\packages\\pythonsoftwarefoundation.python.3.9_qbz5n2kfra8p0\\localcache\\local-packages\\python39\\site-packages (from newspaper3k) (9.0.1)\n",
      "Requirement already satisfied: python-dateutil>=2.5.3 in c:\\users\\lukej\\appdata\\local\\packages\\pythonsoftwarefoundation.python.3.9_qbz5n2kfra8p0\\localcache\\local-packages\\python39\\site-packages (from newspaper3k) (2.8.2)\n",
      "Requirement already satisfied: soupsieve>1.2 in c:\\users\\lukej\\appdata\\local\\packages\\pythonsoftwarefoundation.python.3.9_qbz5n2kfra8p0\\localcache\\local-packages\\python39\\site-packages (from beautifulsoup4>=4.4.1->newspaper3k) (2.3.1)\n",
      "Requirement already satisfied: six in c:\\users\\lukej\\appdata\\local\\packages\\pythonsoftwarefoundation.python.3.9_qbz5n2kfra8p0\\localcache\\local-packages\\python39\\site-packages (from feedfinder2>=0.0.4->newspaper3k) (1.15.0)\n",
      "Requirement already satisfied: sgmllib3k in c:\\users\\lukej\\appdata\\local\\packages\\pythonsoftwarefoundation.python.3.9_qbz5n2kfra8p0\\localcache\\local-packages\\python39\\site-packages (from feedparser>=5.2.1->newspaper3k) (1.0.0)\n",
      "Requirement already satisfied: tqdm in c:\\users\\lukej\\appdata\\local\\packages\\pythonsoftwarefoundation.python.3.9_qbz5n2kfra8p0\\localcache\\local-packages\\python39\\site-packages (from nltk>=3.2.1->newspaper3k) (4.63.0)\n",
      "Requirement already satisfied: click in c:\\users\\lukej\\appdata\\local\\packages\\pythonsoftwarefoundation.python.3.9_qbz5n2kfra8p0\\localcache\\local-packages\\python39\\site-packages (from nltk>=3.2.1->newspaper3k) (8.0.4)\n",
      "Requirement already satisfied: regex>=2021.8.3 in c:\\users\\lukej\\appdata\\local\\packages\\pythonsoftwarefoundation.python.3.9_qbz5n2kfra8p0\\localcache\\local-packages\\python39\\site-packages (from nltk>=3.2.1->newspaper3k) (2022.3.15)\n",
      "Requirement already satisfied: joblib in c:\\users\\lukej\\appdata\\local\\packages\\pythonsoftwarefoundation.python.3.9_qbz5n2kfra8p0\\localcache\\local-packages\\python39\\site-packages (from nltk>=3.2.1->newspaper3k) (1.1.0)\n",
      "Requirement already satisfied: idna<4,>=2.5 in c:\\users\\lukej\\appdata\\local\\packages\\pythonsoftwarefoundation.python.3.9_qbz5n2kfra8p0\\localcache\\local-packages\\python39\\site-packages (from requests>=2.10.0->newspaper3k) (2.10)\n",
      "Requirement already satisfied: certifi>=2017.4.17 in c:\\users\\lukej\\appdata\\local\\packages\\pythonsoftwarefoundation.python.3.9_qbz5n2kfra8p0\\localcache\\local-packages\\python39\\site-packages (from requests>=2.10.0->newspaper3k) (2020.12.5)\n",
      "Requirement already satisfied: urllib3<1.27,>=1.21.1 in c:\\users\\lukej\\appdata\\local\\packages\\pythonsoftwarefoundation.python.3.9_qbz5n2kfra8p0\\localcache\\local-packages\\python39\\site-packages (from requests>=2.10.0->newspaper3k) (1.26.3)\n",
      "Requirement already satisfied: charset-normalizer~=2.0.0 in c:\\users\\lukej\\appdata\\local\\packages\\pythonsoftwarefoundation.python.3.9_qbz5n2kfra8p0\\localcache\\local-packages\\python39\\site-packages (from requests>=2.10.0->newspaper3k) (2.0.12)\n",
      "Requirement already satisfied: requests-file>=1.4 in c:\\users\\lukej\\appdata\\local\\packages\\pythonsoftwarefoundation.python.3.9_qbz5n2kfra8p0\\localcache\\local-packages\\python39\\site-packages (from tldextract>=2.0.1->newspaper3k) (1.5.1)\n",
      "Requirement already satisfied: filelock>=3.0.8 in c:\\users\\lukej\\appdata\\local\\packages\\pythonsoftwarefoundation.python.3.9_qbz5n2kfra8p0\\localcache\\local-packages\\python39\\site-packages (from tldextract>=2.0.1->newspaper3k) (3.6.0)\n",
      "Requirement already satisfied: colorama in c:\\users\\lukej\\appdata\\local\\packages\\pythonsoftwarefoundation.python.3.9_qbz5n2kfra8p0\\localcache\\local-packages\\python39\\site-packages (from click->nltk>=3.2.1->newspaper3k) (0.4.4)\n",
      "Requirement already satisfied: pycountry in c:\\users\\lukej\\appdata\\local\\packages\\pythonsoftwarefoundation.python.3.9_qbz5n2kfra8p0\\localcache\\local-packages\\python39\\site-packages (22.3.5)\n",
      "Requirement already satisfied: setuptools in c:\\program files\\windowsapps\\pythonsoftwarefoundation.python.3.9_3.9.3056.0_x64__qbz5n2kfra8p0\\lib\\site-packages (from pycountry) (58.1.0)\n",
      "Requirement already satisfied: locationtagger in c:\\users\\lukej\\appdata\\local\\packages\\pythonsoftwarefoundation.python.3.9_qbz5n2kfra8p0\\localcache\\local-packages\\python39\\site-packages (0.0.1)\n",
      "Requirement already satisfied: newspaper3k in c:\\users\\lukej\\appdata\\local\\packages\\pythonsoftwarefoundation.python.3.9_qbz5n2kfra8p0\\localcache\\local-packages\\python39\\site-packages (from locationtagger) (0.2.8)\n",
      "Requirement already satisfied: spacy in c:\\users\\lukej\\appdata\\local\\packages\\pythonsoftwarefoundation.python.3.9_qbz5n2kfra8p0\\localcache\\local-packages\\python39\\site-packages (from locationtagger) (3.2.3)\n",
      "Requirement already satisfied: pycountry in c:\\users\\lukej\\appdata\\local\\packages\\pythonsoftwarefoundation.python.3.9_qbz5n2kfra8p0\\localcache\\local-packages\\python39\\site-packages (from locationtagger) (22.3.5)\n",
      "Requirement already satisfied: nltk in c:\\users\\lukej\\appdata\\local\\packages\\pythonsoftwarefoundation.python.3.9_qbz5n2kfra8p0\\localcache\\local-packages\\python39\\site-packages (from locationtagger) (3.7)\n",
      "Requirement already satisfied: beautifulsoup4>=4.4.1 in c:\\users\\lukej\\appdata\\local\\packages\\pythonsoftwarefoundation.python.3.9_qbz5n2kfra8p0\\localcache\\local-packages\\python39\\site-packages (from newspaper3k->locationtagger) (4.10.0)\n",
      "Requirement already satisfied: feedfinder2>=0.0.4 in c:\\users\\lukej\\appdata\\local\\packages\\pythonsoftwarefoundation.python.3.9_qbz5n2kfra8p0\\localcache\\local-packages\\python39\\site-packages (from newspaper3k->locationtagger) (0.0.4)\n",
      "Requirement already satisfied: tinysegmenter==0.3 in c:\\users\\lukej\\appdata\\local\\packages\\pythonsoftwarefoundation.python.3.9_qbz5n2kfra8p0\\localcache\\local-packages\\python39\\site-packages (from newspaper3k->locationtagger) (0.3)\n",
      "Requirement already satisfied: PyYAML>=3.11 in c:\\users\\lukej\\appdata\\local\\packages\\pythonsoftwarefoundation.python.3.9_qbz5n2kfra8p0\\localcache\\local-packages\\python39\\site-packages (from newspaper3k->locationtagger) (6.0)\n",
      "Requirement already satisfied: lxml>=3.6.0 in c:\\users\\lukej\\appdata\\local\\packages\\pythonsoftwarefoundation.python.3.9_qbz5n2kfra8p0\\localcache\\local-packages\\python39\\site-packages (from newspaper3k->locationtagger) (4.8.0)\n",
      "Requirement already satisfied: tldextract>=2.0.1 in c:\\users\\lukej\\appdata\\local\\packages\\pythonsoftwarefoundation.python.3.9_qbz5n2kfra8p0\\localcache\\local-packages\\python39\\site-packages (from newspaper3k->locationtagger) (3.2.0)\n",
      "Requirement already satisfied: feedparser>=5.2.1 in c:\\users\\lukej\\appdata\\local\\packages\\pythonsoftwarefoundation.python.3.9_qbz5n2kfra8p0\\localcache\\local-packages\\python39\\site-packages (from newspaper3k->locationtagger) (6.0.8)\n",
      "Requirement already satisfied: python-dateutil>=2.5.3 in c:\\users\\lukej\\appdata\\local\\packages\\pythonsoftwarefoundation.python.3.9_qbz5n2kfra8p0\\localcache\\local-packages\\python39\\site-packages (from newspaper3k->locationtagger) (2.8.2)\n",
      "Requirement already satisfied: cssselect>=0.9.2 in c:\\users\\lukej\\appdata\\local\\packages\\pythonsoftwarefoundation.python.3.9_qbz5n2kfra8p0\\localcache\\local-packages\\python39\\site-packages (from newspaper3k->locationtagger) (1.1.0)\n",
      "Requirement already satisfied: jieba3k>=0.35.1 in c:\\users\\lukej\\appdata\\local\\packages\\pythonsoftwarefoundation.python.3.9_qbz5n2kfra8p0\\localcache\\local-packages\\python39\\site-packages (from newspaper3k->locationtagger) (0.35.1)\n",
      "Requirement already satisfied: Pillow>=3.3.0 in c:\\users\\lukej\\appdata\\local\\packages\\pythonsoftwarefoundation.python.3.9_qbz5n2kfra8p0\\localcache\\local-packages\\python39\\site-packages (from newspaper3k->locationtagger) (9.0.1)\n",
      "Requirement already satisfied: requests>=2.10.0 in c:\\users\\lukej\\appdata\\local\\packages\\pythonsoftwarefoundation.python.3.9_qbz5n2kfra8p0\\localcache\\local-packages\\python39\\site-packages (from newspaper3k->locationtagger) (2.27.1)\n",
      "Requirement already satisfied: regex>=2021.8.3 in c:\\users\\lukej\\appdata\\local\\packages\\pythonsoftwarefoundation.python.3.9_qbz5n2kfra8p0\\localcache\\local-packages\\python39\\site-packages (from nltk->locationtagger) (2022.3.15)\n",
      "Requirement already satisfied: click in c:\\users\\lukej\\appdata\\local\\packages\\pythonsoftwarefoundation.python.3.9_qbz5n2kfra8p0\\localcache\\local-packages\\python39\\site-packages (from nltk->locationtagger) (8.0.4)\n",
      "Requirement already satisfied: joblib in c:\\users\\lukej\\appdata\\local\\packages\\pythonsoftwarefoundation.python.3.9_qbz5n2kfra8p0\\localcache\\local-packages\\python39\\site-packages (from nltk->locationtagger) (1.1.0)\n",
      "Requirement already satisfied: tqdm in c:\\users\\lukej\\appdata\\local\\packages\\pythonsoftwarefoundation.python.3.9_qbz5n2kfra8p0\\localcache\\local-packages\\python39\\site-packages (from nltk->locationtagger) (4.63.0)\n",
      "Requirement already satisfied: setuptools in c:\\program files\\windowsapps\\pythonsoftwarefoundation.python.3.9_3.9.3056.0_x64__qbz5n2kfra8p0\\lib\\site-packages (from pycountry->locationtagger) (58.1.0)\n",
      "Requirement already satisfied: pathy>=0.3.5 in c:\\users\\lukej\\appdata\\local\\packages\\pythonsoftwarefoundation.python.3.9_qbz5n2kfra8p0\\localcache\\local-packages\\python39\\site-packages (from spacy->locationtagger) (0.6.1)\n",
      "Requirement already satisfied: jinja2 in c:\\users\\lukej\\appdata\\local\\packages\\pythonsoftwarefoundation.python.3.9_qbz5n2kfra8p0\\localcache\\local-packages\\python39\\site-packages (from spacy->locationtagger) (3.0.3)\n",
      "Requirement already satisfied: blis<0.8.0,>=0.4.0 in c:\\users\\lukej\\appdata\\local\\packages\\pythonsoftwarefoundation.python.3.9_qbz5n2kfra8p0\\localcache\\local-packages\\python39\\site-packages (from spacy->locationtagger) (0.7.7)\n",
      "Requirement already satisfied: spacy-loggers<2.0.0,>=1.0.0 in c:\\users\\lukej\\appdata\\local\\packages\\pythonsoftwarefoundation.python.3.9_qbz5n2kfra8p0\\localcache\\local-packages\\python39\\site-packages (from spacy->locationtagger) (1.0.1)\n",
      "Requirement already satisfied: murmurhash<1.1.0,>=0.28.0 in c:\\users\\lukej\\appdata\\local\\packages\\pythonsoftwarefoundation.python.3.9_qbz5n2kfra8p0\\localcache\\local-packages\\python39\\site-packages (from spacy->locationtagger) (1.0.6)\n",
      "Requirement already satisfied: packaging>=20.0 in c:\\users\\lukej\\appdata\\local\\packages\\pythonsoftwarefoundation.python.3.9_qbz5n2kfra8p0\\localcache\\local-packages\\python39\\site-packages (from spacy->locationtagger) (20.9)\n",
      "Requirement already satisfied: spacy-legacy<3.1.0,>=3.0.8 in c:\\users\\lukej\\appdata\\local\\packages\\pythonsoftwarefoundation.python.3.9_qbz5n2kfra8p0\\localcache\\local-packages\\python39\\site-packages (from spacy->locationtagger) (3.0.9)\n",
      "Requirement already satisfied: srsly<3.0.0,>=2.4.1 in c:\\users\\lukej\\appdata\\local\\packages\\pythonsoftwarefoundation.python.3.9_qbz5n2kfra8p0\\localcache\\local-packages\\python39\\site-packages (from spacy->locationtagger) (2.4.2)\n",
      "Requirement already satisfied: thinc<8.1.0,>=8.0.12 in c:\\users\\lukej\\appdata\\local\\packages\\pythonsoftwarefoundation.python.3.9_qbz5n2kfra8p0\\localcache\\local-packages\\python39\\site-packages (from spacy->locationtagger) (8.0.15)\n",
      "Requirement already satisfied: catalogue<2.1.0,>=2.0.6 in c:\\users\\lukej\\appdata\\local\\packages\\pythonsoftwarefoundation.python.3.9_qbz5n2kfra8p0\\localcache\\local-packages\\python39\\site-packages (from spacy->locationtagger) (2.0.7)\n",
      "Requirement already satisfied: typer<0.5.0,>=0.3.0 in c:\\users\\lukej\\appdata\\local\\packages\\pythonsoftwarefoundation.python.3.9_qbz5n2kfra8p0\\localcache\\local-packages\\python39\\site-packages (from spacy->locationtagger) (0.4.0)\n",
      "Requirement already satisfied: wasabi<1.1.0,>=0.8.1 in c:\\users\\lukej\\appdata\\local\\packages\\pythonsoftwarefoundation.python.3.9_qbz5n2kfra8p0\\localcache\\local-packages\\python39\\site-packages (from spacy->locationtagger) (0.9.0)\n",
      "Requirement already satisfied: pydantic!=1.8,!=1.8.1,<1.9.0,>=1.7.4 in c:\\users\\lukej\\appdata\\local\\packages\\pythonsoftwarefoundation.python.3.9_qbz5n2kfra8p0\\localcache\\local-packages\\python39\\site-packages (from spacy->locationtagger) (1.8.2)\n",
      "Requirement already satisfied: preshed<3.1.0,>=3.0.2 in c:\\users\\lukej\\appdata\\local\\packages\\pythonsoftwarefoundation.python.3.9_qbz5n2kfra8p0\\localcache\\local-packages\\python39\\site-packages (from spacy->locationtagger) (3.0.6)\n",
      "Requirement already satisfied: numpy>=1.15.0 in c:\\users\\lukej\\appdata\\local\\packages\\pythonsoftwarefoundation.python.3.9_qbz5n2kfra8p0\\localcache\\local-packages\\python39\\site-packages (from spacy->locationtagger) (1.21.2)\n",
      "Requirement already satisfied: langcodes<4.0.0,>=3.2.0 in c:\\users\\lukej\\appdata\\local\\packages\\pythonsoftwarefoundation.python.3.9_qbz5n2kfra8p0\\localcache\\local-packages\\python39\\site-packages (from spacy->locationtagger) (3.3.0)\n",
      "Requirement already satisfied: cymem<2.1.0,>=2.0.2 in c:\\users\\lukej\\appdata\\local\\packages\\pythonsoftwarefoundation.python.3.9_qbz5n2kfra8p0\\localcache\\local-packages\\python39\\site-packages (from spacy->locationtagger) (2.0.6)\n",
      "Requirement already satisfied: soupsieve>1.2 in c:\\users\\lukej\\appdata\\local\\packages\\pythonsoftwarefoundation.python.3.9_qbz5n2kfra8p0\\localcache\\local-packages\\python39\\site-packages (from beautifulsoup4>=4.4.1->newspaper3k->locationtagger) (2.3.1)\n",
      "Requirement already satisfied: six in c:\\users\\lukej\\appdata\\local\\packages\\pythonsoftwarefoundation.python.3.9_qbz5n2kfra8p0\\localcache\\local-packages\\python39\\site-packages (from feedfinder2>=0.0.4->newspaper3k->locationtagger) (1.15.0)\n",
      "Requirement already satisfied: sgmllib3k in c:\\users\\lukej\\appdata\\local\\packages\\pythonsoftwarefoundation.python.3.9_qbz5n2kfra8p0\\localcache\\local-packages\\python39\\site-packages (from feedparser>=5.2.1->newspaper3k->locationtagger) (1.0.0)\n",
      "Requirement already satisfied: pyparsing>=2.0.2 in c:\\users\\lukej\\appdata\\local\\packages\\pythonsoftwarefoundation.python.3.9_qbz5n2kfra8p0\\localcache\\local-packages\\python39\\site-packages (from packaging>=20.0->spacy->locationtagger) (2.4.7)\n",
      "Requirement already satisfied: smart-open<6.0.0,>=5.0.0 in c:\\users\\lukej\\appdata\\local\\packages\\pythonsoftwarefoundation.python.3.9_qbz5n2kfra8p0\\localcache\\local-packages\\python39\\site-packages (from pathy>=0.3.5->spacy->locationtagger) (5.2.1)\n",
      "Requirement already satisfied: typing-extensions>=3.7.4.3 in c:\\users\\lukej\\appdata\\local\\packages\\pythonsoftwarefoundation.python.3.9_qbz5n2kfra8p0\\localcache\\local-packages\\python39\\site-packages (from pydantic!=1.8,!=1.8.1,<1.9.0,>=1.7.4->spacy->locationtagger) (4.1.1)\n",
      "Requirement already satisfied: certifi>=2017.4.17 in c:\\users\\lukej\\appdata\\local\\packages\\pythonsoftwarefoundation.python.3.9_qbz5n2kfra8p0\\localcache\\local-packages\\python39\\site-packages (from requests>=2.10.0->newspaper3k->locationtagger) (2020.12.5)\n",
      "Requirement already satisfied: charset-normalizer~=2.0.0 in c:\\users\\lukej\\appdata\\local\\packages\\pythonsoftwarefoundation.python.3.9_qbz5n2kfra8p0\\localcache\\local-packages\\python39\\site-packages (from requests>=2.10.0->newspaper3k->locationtagger) (2.0.12)\n",
      "Requirement already satisfied: urllib3<1.27,>=1.21.1 in c:\\users\\lukej\\appdata\\local\\packages\\pythonsoftwarefoundation.python.3.9_qbz5n2kfra8p0\\localcache\\local-packages\\python39\\site-packages (from requests>=2.10.0->newspaper3k->locationtagger) (1.26.3)\n",
      "Requirement already satisfied: idna<4,>=2.5 in c:\\users\\lukej\\appdata\\local\\packages\\pythonsoftwarefoundation.python.3.9_qbz5n2kfra8p0\\localcache\\local-packages\\python39\\site-packages (from requests>=2.10.0->newspaper3k->locationtagger) (2.10)\n",
      "Requirement already satisfied: requests-file>=1.4 in c:\\users\\lukej\\appdata\\local\\packages\\pythonsoftwarefoundation.python.3.9_qbz5n2kfra8p0\\localcache\\local-packages\\python39\\site-packages (from tldextract>=2.0.1->newspaper3k->locationtagger) (1.5.1)\n",
      "Requirement already satisfied: filelock>=3.0.8 in c:\\users\\lukej\\appdata\\local\\packages\\pythonsoftwarefoundation.python.3.9_qbz5n2kfra8p0\\localcache\\local-packages\\python39\\site-packages (from tldextract>=2.0.1->newspaper3k->locationtagger) (3.6.0)\n",
      "Requirement already satisfied: colorama in c:\\users\\lukej\\appdata\\local\\packages\\pythonsoftwarefoundation.python.3.9_qbz5n2kfra8p0\\localcache\\local-packages\\python39\\site-packages (from tqdm->nltk->locationtagger) (0.4.4)\n",
      "Requirement already satisfied: MarkupSafe>=2.0 in c:\\users\\lukej\\appdata\\local\\packages\\pythonsoftwarefoundation.python.3.9_qbz5n2kfra8p0\\localcache\\local-packages\\python39\\site-packages (from jinja2->spacy->locationtagger) (2.1.1)\n"
     ]
    }
   ],
   "source": [
    "!pip install nltk\n",
    "!pip install spacy\n",
    "!python -m spacy download en_core_web_lg\n",
    "!python -m spacy download en_core_web_sm\n",
    "import nltk\n",
    "import spacy\n",
    "  \n",
    "# essential entity models downloads\n",
    "nltk.downloader.download('maxent_ne_chunker')\n",
    "nltk.downloader.download('words')\n",
    "nltk.downloader.download('treebank')\n",
    "nltk.downloader.download('maxent_treebank_pos_tagger')\n",
    "nltk.downloader.download('punkt')\n",
    "nltk.download('averaged_perceptron_tagger')\n",
    "\n",
    "!pip install python-dateutil\n",
    "!pip install magicdate\n",
    "!pip install newspaper3k\n",
    "!pip install pycountry\n",
    "!pip install locationtagger"
   ]
  },
  {
   "cell_type": "markdown",
   "id": "70d4628c-39cf-4b6f-81f8-38fae23d05c8",
   "metadata": {},
   "source": [
    "Code:"
   ]
  },
  {
   "cell_type": "code",
   "execution_count": 51,
   "id": "3fe36680-1711-4b44-84c1-0e5490ca6280",
   "metadata": {},
   "outputs": [
    {
     "name": "stdout",
     "output_type": "stream",
     "text": [
      "{'tweets': True, 'insight_website': True, 'brainstorm': True, 'silicon_republic': True, 'podcast': True}\n"
     ]
    }
   ],
   "source": [
    "%run -i analysis.py"
   ]
  },
  {
   "cell_type": "markdown",
   "id": "872e09e4-6534-4d9d-b3e8-e0e54cbc8f34",
   "metadata": {},
   "source": [
    "## Output"
   ]
  },
  {
   "cell_type": "code",
   "execution_count": 65,
   "id": "3b23c297-91f7-4626-ab72-53eaf8b06c72",
   "metadata": {},
   "outputs": [
    {
     "name": "stdout",
     "output_type": "stream",
     "text": [
      "Identified 6 events by 5 people with 25 other unknown events\n"
     ]
    }
   ],
   "source": [
    "print(\"Identified\", sum(len(x) for x in slim_output[\"found_epe\"].values()), \"events by\", len(slim_output[\"found_epe\"]), \"people with\", len(slim_output[\"unknown_epe\"]), \"other unknown events\")"
   ]
  },
  {
   "cell_type": "code",
   "execution_count": 61,
   "id": "d51adb9a-bbc6-493f-b191-1cadd48cf432",
   "metadata": {},
   "outputs": [
    {
     "data": {
      "application/json": {
       "Ciara Duignan": [
        {
         "details": {
          "audience": 500,
          "date": "2021-09-14 00:00:00",
          "location": "online"
         },
         "link": "https://open.spotify.com/episode/6nksQwgwJeLvca2xSZJwaU",
         "person": "Ciara Duignan",
         "type": "podcast"
        },
        {
         "details": {
          "audience": 500,
          "date": "2021-03-10 00:00:00",
          "location": "online"
         },
         "link": "https://open.spotify.com/episode/4emXvpHDBCMO4iQsUVNGrN",
         "person": "Ciara Duignan",
         "type": "podcast"
        }
       ],
       "Claudette Pretorius": [
        {
         "details": {
          "audience": 500,
          "date": "2022-02-09 00:00:00",
          "location": "online"
         },
         "link": "https://open.spotify.com/episode/6FbbJlsyuHSWSHmMglOABT",
         "person": "Claudette Pretorius",
         "type": "podcast"
        }
       ],
       "Eileen Gibney": [
        {
         "details": {
          "audience": 500,
          "date": "2021-01-06 00:00:00",
          "location": "online"
         },
         "link": "https://open.spotify.com/episode/788Y2Ohehm4O7CJnKVRxj8",
         "person": "Eileen Gibney",
         "type": "podcast"
        }
       ],
       "Georgiana Ifrim": [
        {
         "details": {
          "audience": 500,
          "date": "2021-03-03 00:00:00",
          "location": "online"
         },
         "link": "https://open.spotify.com/episode/3lGlw1ljORJ07OvyZ7HsmD",
         "person": "Georgiana Ifrim",
         "type": "podcast"
        }
       ],
       "Tomas Ward": [
        {
         "details": {
          "audience": 5000,
          "date": "2021-06-17 14:07:34+00:00",
          "location": {}
         },
         "link": "www.insight-centre.org\\insight-spinout-athenacx-smarter-surveys\\",
         "person": "Tomas Ward",
         "type": "insight_website"
        }
       ]
      },
      "text/plain": [
       "<IPython.core.display.JSON object>"
      ]
     },
     "execution_count": 61,
     "metadata": {
      "application/json": {
       "expanded": false,
       "root": "root"
      }
     },
     "output_type": "execute_result"
    }
   ],
   "source": [
    "from IPython.display import JSON\n",
    "JSON(slim_output[\"found_epe\"])"
   ]
  },
  {
   "cell_type": "code",
   "execution_count": 62,
   "id": "930dbf0e-d817-4076-a4eb-854562c8a56d",
   "metadata": {},
   "outputs": [
    {
     "data": {
      "application/json": [
       {
        "details": {
         "audience": "unknown",
         "date": "2022-03-21 12:22:57",
         "location": {
          "city": "March",
          "place": "Dept of Agriculture"
         }
        },
        "link": "https://twitter.com/twitter/statuses/1505982056974667785",
        "type": "tweets"
       },
       {
        "details": {
         "audience": 5000,
         "date": "2022-03-22 18:36:02",
         "location": {}
        },
        "link": "https://twitter.com/twitter/statuses/1506559233508220930",
        "type": "tweets"
       },
       {
        "details": {
         "audience": "unknown",
         "date": "2022-03-23",
         "location": {}
        },
        "link": "https://twitter.com/twitter/statuses/1496863970887569410",
        "type": "tweets"
       },
       {
        "details": {
         "audience": "unknown",
         "date": "2022-03-23 11:58:53",
         "location": {}
        },
        "link": "https://twitter.com/twitter/statuses/1506601373131022339",
        "type": "tweets"
       },
       {
        "details": {
         "audience": "unknown",
         "date": "2022-03-23 11:23:47",
         "location": {}
        },
        "link": "https://twitter.com/twitter/statuses/1506598304599228424",
        "type": "tweets"
       },
       {
        "details": {
         "audience": "unknown",
         "date": "2022-03-23 09:00:02",
         "location": {
          "city": "Eu",
          "place": "Europe"
         }
        },
        "link": "https://twitter.com/twitter/statuses/1506556364981686273",
        "type": "tweets"
       },
       {
        "details": {
         "audience": "unknown",
         "date": "2022-03-21 15:27:21",
         "location": {}
        },
        "link": "https://twitter.com/twitter/statuses/1506221430110920704",
        "type": "tweets"
       },
       {
        "details": {
         "audience": "unknown",
         "date": "2022-03-21 16:30:00",
         "location": {}
        },
        "link": "https://twitter.com/twitter/statuses/1506221075725795335",
        "type": "tweets"
       },
       {
        "details": {
         "audience": "unknown",
         "date": "2022-03-22 09:32:00",
         "location": {}
        },
        "link": "https://twitter.com/twitter/statuses/1506202021027717122",
        "type": "tweets"
       },
       {
        "details": {
         "audience": 5000,
         "date": "2020-11-02 12:10:04+00:00",
         "location": {
          "city": "Dublin",
          "country": "Ireland",
          "place": "Science Week",
          "region": "Cork"
         }
        },
        "link": "www.insight-centre.org\\crowd4access-update-we-need-you\\",
        "type": "insight_website"
       },
       {
        "details": {
         "audience": "unknown",
         "date": "2021-07-30 09:39:57+00:00",
         "location": {}
        },
        "link": "www.insight-centre.org\\dcu-gaitkeeper-project-in-the-irish-times\\",
        "type": "insight_website"
       },
       {
        "details": {
         "audience": "unknown",
         "date": "2021-02-17 10:23:01+00:00",
         "location": {
          "city": "Epe",
          "place": "The Insight Podcast"
         }
        },
        "link": "www.insight-centre.org\\episode-11-of-the-insight-podcast-is-out-now\\",
        "type": "insight_website"
       },
       {
        "details": {
         "audience": "unknown",
         "date": "2021-01-27 09:55:56+00:00",
         "location": {
          "city": "Louise",
          "place": "The Insight Podcast"
         }
        },
        "link": "www.insight-centre.org\\hiveminds-ep09-of-the-insight-podcast-out-now\\",
        "type": "insight_website"
       },
       {
        "details": {
         "audience": "unknown",
         "date": "2022-02-17 11:17:30+00:00",
         "location": {}
        },
        "link": "www.insight-centre.org\\insight-health-using-data-analysis-to-interpret-the-human-genome\\",
        "type": "insight_website"
       },
       {
        "details": {
         "audience": 5000,
         "date": "2021-05-03 12:09:10+00:00",
         "location": {
          "city": "Hospital",
          "place": "Insight Health Walk"
         }
        },
        "link": "www.insight-centre.org\\insight-health-walk-this-way-all-about-gaitkeeper\\",
        "type": "insight_website"
       },
       {
        "details": {
         "audience": "unknown",
         "date": "2020-11-16 09:49:25+00:00",
         "location": {
          "city": "Galway",
          "country": "Ireland",
          "place": "Insight"
         }
        },
        "link": "www.insight-centre.org\\insight-hosts-first-irish-virtual-reality-classroom\\",
        "type": "insight_website"
       },
       {
        "details": {
         "audience": "unknown",
         "date": "2020-11-11 11:02:31+00:00",
         "location": {}
        },
        "link": "www.insight-centre.org\\its-about-empowering-not-replacing-humans-noel-oconnor-in-the-irish-independent\\",
        "type": "insight_website"
       },
       {
        "details": {
         "audience": 2500,
         "date": "2022-03-23",
         "location": {}
        },
        "link": "www.insight-centre.org\\listen-and-read-professor-barry-osullivan-on-the-hse-cyber-attack\\",
        "type": "insight_website"
       },
       {
        "details": {
         "audience": "unknown",
         "date": "2022-02-11 11:37:18+00:00",
         "location": {
          "city": "Ireland",
          "place": "Noel O'Connor"
         }
        },
        "link": "www.insight-centre.org\\listen-prof-noel-oconnor-talks-digital-infrastructure-on-the-techradio-podcast\\",
        "type": "insight_website"
       },
       {
        "details": {
         "audience": "unknown",
         "date": "2021-12-14 10:24:15+00:00",
         "location": {
          "city": "Ireland",
          "place": "New Insight"
         }
        },
        "link": "www.insight-centre.org\\new-insight-research-project-on-physical-activity-levels-of-vision-impaired-and-blind-children-and-adults\\",
        "type": "insight_website"
       },
       {
        "details": {
         "audience": "unknown",
         "date": "2022-02-03 11:40:03+00:00",
         "location": {
          "city": "Dublin",
          "place": "Insight",
          "region": "Centre"
         }
        },
        "link": "www.insight-centre.org\\older-adults-invited-to-trial-new-home-technologies-developed-with-insightdcu\\",
        "type": "insight_website"
       },
       {
        "details": {
         "audience": "unknown",
         "date": "2006-06-18 11:09:18+00:00",
         "location": {
          "city": "Montreal",
          "place": "The Eternal Memory"
         }
        },
        "link": "www.insight-centre.org\\the-eternal-memory-selected-for-the-montreal-independent-film-festival\\",
        "type": "insight_website"
       },
       {
        "details": {
         "audience": 5000,
         "date": "2021-07-08 09:40:03+00:00",
         "location": {
          "city": "Glasgow",
          "country": "Ireland",
          "place": "the United Nations Environment Programmes Global Peatlands Initiative"
         }
        },
        "link": "www.insight-centre.org\\united-nations-recognizes-major-irish-peatland-restoration-initiative\\",
        "type": "insight_website"
       },
       {
        "details": {
         "audience": 5000,
         "date": "2020-09-01 09:17:48+00:00",
         "location": {
          "city": "Independence",
          "place": "John Breslin's",
          "region": "Cork"
         }
        },
        "link": "www.insight-centre.org\\war-of-independence-in-colour-john-breslins-fascinating-images-on-rte\\",
        "type": "insight_website"
       },
       {
        "details": {
         "audience": 5000,
         "date": "2022-01-28 12:18:33+00:00",
         "location": {
          "city": "English",
          "place": "Barry Smyth"
         }
        },
        "link": "www.insight-centre.org\\whats-the-best-word-to-start-wordle-read-on\\",
        "type": "insight_website"
       }
      ],
      "text/plain": [
       "<IPython.core.display.JSON object>"
      ]
     },
     "execution_count": 62,
     "metadata": {
      "application/json": {
       "expanded": false,
       "root": "root"
      }
     },
     "output_type": "execute_result"
    }
   ],
   "source": [
    "JSON(slim_output[\"unknown_epe\"])"
   ]
  },
  {
   "cell_type": "code",
   "execution_count": 63,
   "id": "6e7a3357-a3f4-459d-b717-8e1409252b0b",
   "metadata": {},
   "outputs": [
    {
     "data": {
      "application/json": [
       [
        "www.insight-centre.org\\crowd4access-needs-you\\",
        "www.insight-centre.org\\crowd4access-update-we-need-you\\"
       ],
       [
        "www.insight-centre.org\\insight-culture-the-eternal-memory\\",
        "www.insight-centre.org\\the-eternal-memory-selected-for-the-montreal-independent-film-festival\\"
       ],
       [
        "www.insight-centre.org\\the-eternal-memory-selected-for-the-cannes-short-film-festival\\",
        "www.insight-centre.org\\the-eternal-memory-selected-for-the-montreal-independent-film-festival\\"
       ]
      ],
      "text/plain": [
       "<IPython.core.display.JSON object>"
      ]
     },
     "execution_count": 63,
     "metadata": {
      "application/json": {
       "expanded": false,
       "root": "root"
      }
     },
     "output_type": "execute_result"
    }
   ],
   "source": [
    "JSON(slim_output[\"duplicates\"])"
   ]
  }
 ],
 "metadata": {
  "kernelspec": {
   "display_name": "Python 3 (ipykernel)",
   "language": "python",
   "name": "python3"
  },
  "language_info": {
   "codemirror_mode": {
    "name": "ipython",
    "version": 3
   },
   "file_extension": ".py",
   "mimetype": "text/x-python",
   "name": "python",
   "nbconvert_exporter": "python",
   "pygments_lexer": "ipython3",
   "version": "3.9.11"
  }
 },
 "nbformat": 4,
 "nbformat_minor": 5
}
